{
 "cells": [
  {
   "cell_type": "markdown",
   "id": "4b7e6d28",
   "metadata": {},
   "source": [
    "<img src=\"https://tu-dortmund.sciebo.de/s/UGnVk4sv4ryF9ZF/download\" height=\"100\" align=\"center\" style=\"height:180px\"> "
   ]
  },
  {
   "cell_type": "markdown",
   "id": "33a80eed-7f84-468e-bb84-fea4f65f47fd",
   "metadata": {},
   "source": [
    "<img src=\"https://bmrb.io/images/BMRB_logo_icon.svg\" height=\"100\" align=\"left\" style=\"height:60px\">\n",
    "\n",
    "# BRMB vis\n",
    "This is a tool to visualise assignments from [BMRB](https://bmrb.io/). Simply run all cells below and follow the instructions!"
   ]
  },
  {
   "cell_type": "code",
   "execution_count": null,
   "id": "f76fa89e",
   "metadata": {},
   "outputs": [],
   "source": [
    "#@title Install dependencies {display-mode: \"form\"}\n",
    "%%bash\n",
    "\n",
    "pip install -q --no-warn-conflicts pynmrstar"
   ]
  },
  {
   "cell_type": "code",
   "execution_count": null,
   "id": "33d88f71-454e-42f9-b3c4-d54879f468c7",
   "metadata": {},
   "outputs": [],
   "source": [
    "#@title Import libraries and fetching the data {display-mode: \"form\"}\n",
    "\n",
    "import pynmrstar\n",
    "import pandas as pd\n",
    "import matplotlib.pyplot as plt\n",
    "import sys\n",
    "from io import StringIO\n",
    "\n",
    "#@markdown Enter the BMRB ID.\n",
    "\n",
    "#@markdown For example, `51228` for Alex's SH3 assignments\n",
    "\n",
    "try:\n",
    "    bmrb_id = 51166 #@param {type:\"integer\"} \n",
    "    nmrstar = pynmrstar.Entry.from_database(bmrb_id)\n",
    "\n",
    "except ValueError:\n",
    "    print(\"Not a number\")\n",
    "except OSError:\n",
    "    print(f\"Entry {bmrb_id} does not exist in the public database\")\n",
    "    \n",
    "nmrstar = pynmrstar.Entry.from_database(bmrb_id)\n",
    "loops = nmrstar.get_saveframes_by_category('assigned_chemical_shifts')[0]\n",
    "shifts = loops['_Atom_chem_shift']\n",
    "\n",
    "## print(shifts)\n",
    "\n",
    "data = StringIO(shifts.get_data_as_csv().replace(\"_Atom_chem_shift.\", \"\"))\n",
    "df = pd.read_csv(data, index_col=0)\n",
    "\n",
    "## print(df.columns)\n",
    "\n",
    "#### To see raw data from NMR Star file\n",
    "#### print(df.tail(10))\n",
    "\n",
    "# Rearranging the data\n",
    "\n",
    "df1 = df[\"Auth_seq_ID Auth_comp_ID Auth_atom_ID Val Val_err Ambiguity_code\".split()].set_index(\"Auth_seq_ID Auth_comp_ID Auth_atom_ID\".split())\n",
    "df1.columns = \"ChemShift CS_error Ambiguity\".split()\n",
    "df1.index.names = (\"ResNum\", \"ResType\", \"AtomType\")\n",
    "#@markdown Rearranged data from the NMR Star table\n",
    "\n",
    "#@markdown Click on the Magic Wand button to the right and then the Filter button to search through the table\n",
    "df1"
   ]
  },
  {
   "cell_type": "code",
   "execution_count": null,
   "id": "b7d3d47f",
   "metadata": {
    "scrolled": true
   },
   "outputs": [],
   "source": [
    "#@title Check for specific residues {display-mode: \"form\"}\n",
    "#@markdown Show chemical shifts of the nuclei of the specific residue:\n",
    "residue_number = 50 #@param {type:\"integer\"}\n",
    "try:\n",
    "    print(df1.loc[residue_number, :, :])\n",
    "except KeyError:\n",
    "    print(\"This residue does not have assignments or is not in the chain\")"
   ]
  },
  {
   "cell_type": "code",
   "execution_count": null,
   "id": "a3636998",
   "metadata": {},
   "outputs": [],
   "source": [
    "#@title Visualisation {display-mode: \"form\"}\n",
    "#@markdown Select chemical shifts for X and Y axes:\n",
    "\n",
    "dimX = \"H\" #@param [\"H\", \"N\", \"C\", \"CA\", \"CB\", \"HA\"] {type:\"string\"}\n",
    "dimY = \"N\" #@param [\"H\", \"N\", \"C\", \"CA\", \"CB\", \"HA\"] {type:\"string\"}\n",
    "\n",
    "x = df1[\"ChemShift\"].loc[:, :, dimX]\n",
    "y = df1[\"ChemShift\"].loc[:, :, dimY]\n",
    "\n",
    "df_2D = pd.merge(x, y, on=\"ResNum\", suffixes = (f\"_{dimX}\", f\"_{dimY}\"))\n",
    "fig = df_2D.plot(x=f\"ChemShift_{dimX}\", y=f\"ChemShift_{dimY}\", kind=\"scatter\", \n",
    "                 backend=\"plotly\", text=df_2D.index,\n",
    "          )\n",
    "\n",
    "fig.update_xaxes(\n",
    "    autorange=\"reversed\")\n",
    "fig.update_yaxes(\n",
    "    autorange=\"reversed\")\n",
    "fig.update_traces(textposition=\"top left\")\n",
    "fig.update_layout(\n",
    "    autosize=False,\n",
    "    width=800,\n",
    "    height=800)"
   ]
  }
 ],
 "metadata": {
  "colab": {
   "collapsed_sections": [],
   "name": "BMRBvis.ipynb",
   "provenance": []
  },
  "kernelspec": {
   "display_name": "Python 3 (ipykernel)",
   "language": "python",
   "name": "python3"
  },
  "language_info": {
   "codemirror_mode": {
    "name": "ipython",
    "version": 3
   },
   "file_extension": ".py",
   "mimetype": "text/x-python",
   "name": "python",
   "nbconvert_exporter": "python",
   "pygments_lexer": "ipython3",
   "version": "3.10.4"
  }
 },
 "nbformat": 4,
 "nbformat_minor": 5
}
