{
 "cells": [
  {
   "cell_type": "code",
   "execution_count": null,
   "metadata": {},
   "outputs": [],
   "source": [
    "#@title Import libraries {display-mode: \"form\"}\n",
    "\n",
    "import pandas as pd\n",
    "import numpy as np\n",
    "import matplotlib.pyplot as plt\n",
    "import seaborn as sns"
   ]
  },
  {
   "cell_type": "code",
   "execution_count": null,
   "metadata": {},
   "outputs": [],
   "source": [
    "#@title Uploading sample data {display-mode: \"form\"}\n",
    "\n",
    "#@markdown Download from [here](https://github.com/krairy/utilities/blob/main/test_data/DLS/DLS_SampleMeltingCurve.tab)\n",
    "\n",
    "from google.colab import files\n",
    "\n",
    "uploaded = files.upload()\n",
    "\n",
    "for fn in uploaded.keys():\n",
    "    print('User uploaded file \"{name}\" with length {length} bytes'.format(\n",
    "      name=fn, length=len(uploaded[fn])))"
   ]
  },
  {
   "cell_type": "code",
   "execution_count": null,
   "metadata": {
    "scrolled": true
   },
   "outputs": [],
   "source": [
    "df = pd.read_csv(\"DLS_SampleMeltingCurve.tab\", sep=\"\\t+\", header=0, engine=\"python\", encoding= 'unicode_escape')\n",
    "df.drop(0, inplace=True)\n",
    "df.head(10)"
   ]
  },
  {
   "cell_type": "code",
   "execution_count": null,
   "metadata": {},
   "outputs": [],
   "source": [
    "peak_no = 1 #@param {type:\"integer\"} \n",
    "\n",
    "fig, ax = plt.subplots(1, figsize=(13,6))\n",
    "#plt.yscale('log')\n",
    "plt.ylim(0, 1100)\n",
    "bp = df[['T (°C)', f'Pk {peak_no} Mean Int (d.nm)']].boxplot(by=\"T (°C)\", ax=ax)\n",
    "ax.set_xticklabels(np.round(np.arange(5, 46, 1), 0))\n",
    "plt.xlabel('T / °C', fontsize=10)\n",
    "plt.ylabel('Mean size / nm', fontsize=10)\n",
    "plt.title(None)\n",
    "fig.suptitle(None)\n",
    "plt.show()"
   ]
  },
  {
   "cell_type": "code",
   "execution_count": null,
   "metadata": {},
   "outputs": [],
   "source": [
    "sizes = df[['T (°C)', 'Pk 1 Mean Int (d.nm)', 'Pk 2 Mean Int (d.nm)', 'Pk 3 Mean Int (d.nm)']]\n",
    "sizes.set_index(sizes['T (°C)'], inplace=True)\n",
    "\n",
    "### sizes_melt = pd.melt(df, id_vars=['T (°C)'], value_vars=['Pk 1 Mean Int (d.nm)', 'Pk 2 Mean Int (d.nm)', 'Pk 3 Mean Int (d.nm)'], \n",
    "###                      var_name='peak', value_name='mean size')\n",
    "\n",
    "sns.set_style('whitegrid')\n",
    "fig=plt.figure(figsize=(13,6))\n",
    "\n",
    "sns.scatterplot(\n",
    "    data=sizes, x='T (°C)', y='Pk 1 Mean Int (d.nm)')\n",
    "\n",
    "plt.yscale('log')\n",
    "plt.ylim(5, 10000)\n",
    "#sns.relplot(data=sizes, x='T (°C)')\n",
    "\n",
    "plt.xlabel('T / °C', fontsize=10)\n",
    "plt.ylabel('Mean size / nm', fontsize=10)\n",
    "plt.title(None)\n",
    "fig.suptitle(None)\n",
    "plt.show()"
   ]
  },
  {
   "cell_type": "code",
   "execution_count": null,
   "metadata": {},
   "outputs": [],
   "source": [
    "sizes = df[['T (°C)', 'Pk 1 Mean Int (d.nm)', 'Pk 2 Mean Int (d.nm)', 'Pk 3 Mean Int (d.nm)']]\n",
    "sizes.set_index(sizes['T (°C)'], inplace=True)\n",
    "\n",
    "#The following line creates a \"long\" table out of \"wide\"\n",
    "sizes_melt = pd.melt(df, id_vars=['T (°C)'], \n",
    "                     value_vars=['Pk 1 Mean Int (d.nm)', 'Pk 2 Mean Int (d.nm)', 'Pk 3 Mean Int (d.nm)'], \n",
    "                     var_name='peak', value_name='mean size')\n",
    "\n",
    "sns.set_style('whitegrid')\n",
    "fig=plt.figure(figsize=(13,6))\n",
    "\n",
    "sns.scatterplot(\n",
    "    data=sizes_melt, x='T (°C)', y='mean size', hue='peak')\n",
    "\n",
    "plt.yscale('log')\n",
    "#plt.ylim(10, 10000)\n",
    "\n",
    "plt.xlabel('T / °C', fontsize=10)\n",
    "plt.ylabel('Mean diameter / nm', fontsize=10)\n",
    "plt.title(None)\n",
    "fig.suptitle(None)\n",
    "#fig.savefig('DLS_Lin28_scatter_all_peaks.png', format='png', dpi=200)\n",
    "plt.show()\n",
    "\n",
    "#plt.figure(figsize=(9,7))\n",
    "#plt.scatter(x=sizes['T (°C)'], y=sizes['Pk 3 Mean Int (d.nm)'], s=4)\n",
    "#plt.show()\n",
    "\n",
    "#sizes_melt"
   ]
  }
 ],
 "metadata": {
  "colab": {
   "collapsed_sections": [],
   "name": "DLSvis.ipynb",
   "provenance": []
  },
  "kernelspec": {
   "display_name": "Python 3 (ipykernel)",
   "language": "python",
   "name": "python3"
  },
  "language_info": {
   "codemirror_mode": {
    "name": "ipython",
    "version": 3
   },
   "file_extension": ".py",
   "mimetype": "text/x-python",
   "name": "python",
   "nbconvert_exporter": "python",
   "pygments_lexer": "ipython3",
   "version": "3.10.4"
  }
 },
 "nbformat": 4,
 "nbformat_minor": 2
}
