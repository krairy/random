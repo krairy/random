{
 "cells": [
  {
   "cell_type": "markdown",
   "metadata": {},
   "source": [
    "<img src=\"https://tu-dortmund.sciebo.de/s/UGnVk4sv4ryF9ZF/download\" height=\"100\" align=\"center\" style=\"height:180px\"> "
   ]
  },
  {
   "cell_type": "markdown",
   "metadata": {},
   "source": [
    "<img src=\"https://spin.niddk.nih.gov/bax/software/TALOS-N/talosn.gif\" height=\"100\" align=\"left\" style=\"height:180px\">\n",
    "\n",
    "# &nbsp;TALOS vis\n",
    "&nbsp;&nbsp; This is a tool to visualise ramachandran maps predicted by [TALOS-N](https://spin.niddk.nih.gov/bax/software/TALOS-N/). "
   ]
  },
  {
   "cell_type": "code",
   "execution_count": null,
   "metadata": {},
   "outputs": [],
   "source": [
    "#@title Import libraries {display-mode: \"form\"}\n",
    "\n",
    "import numpy as np\n",
    "import matplotlib.pyplot as plt\n",
    "from plotly.subplots import make_subplots\n",
    "#import plotly.graph_objects as go\n",
    "import plotly.express as px"
   ]
  },
  {
   "cell_type": "markdown",
   "metadata": {},
   "source": [
    "## Uploading the TALOS files\n",
    "\n",
    "Run the cell below and upload files `pred.tab` and `predABP.tab`. Don't rename. "
   ]
  },
  {
   "cell_type": "code",
   "execution_count": null,
   "metadata": {},
   "outputs": [],
   "source": [
    "from google.colab import files\n",
    "\n",
    "uploaded = files.upload()\n",
    "\n",
    "for fn in uploaded.keys():\n",
    "    print('User uploaded file \"{name}\" with length {length} bytes'.format(\n",
    "      name=fn, length=len(uploaded[fn])))"
   ]
  },
  {
   "cell_type": "code",
   "execution_count": null,
   "metadata": {},
   "outputs": [],
   "source": [
    "#@title Reading the data {display-mode: \"form\"}\n",
    "\n",
    "########################\n",
    "# Reading the sequence data\n",
    "########################\n",
    "\n",
    "first_residue_no = 1 # declaring a variable\n",
    "with open(f\"pred.tab\", 'r') as main:\n",
    "    seq_raw = []\n",
    "    for l_no, line in enumerate(main):\n",
    "        if 'DATA SEQUENCE' in line:\n",
    "            seq_raw.append(line)\n",
    "        if 'DATA FIRST_RESID' in line:\n",
    "            first_residue_no = int(line.split()[-1])\n",
    "        \n",
    "sequence = \"\"\n",
    "for line in seq_raw:\n",
    "    for fragment in line.split()[2:]:\n",
    "        sequence += fragment\n",
    "\n",
    "def residue(res_num):\n",
    "    return str(res_num) + sequence[res_num-first_residue_no]\n",
    "\n",
    "print(\"Primary sequence\\n\", sequence)\n",
    "########################\n",
    "# Reading the prediction data\n",
    "########################\n",
    "\n",
    "data_raw = []\n",
    "\n",
    "with open(\"predABP.tab\", 'r') as pred:\n",
    "    for l_no, line in enumerate(pred):\n",
    "        if l_no>29: \n",
    "            data_raw.append(line)\n",
    "\n",
    "predictions = {}\n",
    "res_w_predictions = []\n",
    "\n",
    "for line in data_raw:\n",
    "    _ = line.split()\n",
    "    res_code = _[0] + _[1]\n",
    "    res_w_predictions.append(_[0])\n",
    "    predictions[res_code] = np.array([float(x) for x in _[6:]])"
   ]
  },
  {
   "cell_type": "code",
   "execution_count": null,
   "metadata": {
    "scrolled": true
   },
   "outputs": [],
   "source": [
    "#@title Ramachandran map for a single residue {display-mode: \"form\"}\n",
    "\n",
    "#@markdown Enter the NUMBER of residue you are interested in.  {display-mode: \"form\"}\n",
    "\n",
    "res_num = 10  #@param {type:\"integer\"} \n",
    "if str(res_num) not in res_w_predictions:\n",
    "    res_num = first_residue_no+1\n",
    "    print(f'No prediction is found for this residue. Please, type in the correct residue. \\nResidue number is set to {res_num}')\n",
    "    #raise Exception('WrongResidue')\n",
    "\n",
    "\n",
    "rama = predictions[residue(res_num)]\n",
    "rama = np.rot90(rama.reshape(18,18), 1)\n",
    "\n",
    "fig = px.imshow(rama,\n",
    "                labels=dict(x=\"$$\\phi$$\", y=\"$$\\psi$$\"),\n",
    "                width=500, height=500, #size in pixels\n",
    "                x=np.linspace(-180, 160, 18), #(-180, None, None, None, None, -80,  None, None, None, 0, None, None, None, 80, None, None, None, 160),\n",
    "                y=np.flip(np.linspace(-180, 160, 18)), origin=\"lower\", # THIS WONT WORK\n",
    "                #y=(170, None, None, None, None, 70,  None, None, None, -10, None, None, None, -90, None, None, None, -170) ### THIS WONT WORK\n",
    "                #y=np.linspace(-180, 160, 18) #THIS WORKS but the axis is flipped\n",
    "                title=f\"{residue(res_num)}\",\n",
    "               )\n",
    "#fig.update_traces(colorscale=\"YlGnBu\", hoverinfo=\"x+y\")\n",
    "fig.update_layout(title=dict(x=0.5, y=0.9, font=dict(family=\"Open Sans\", size=24)))\n",
    "\n",
    "fig.show()"
   ]
  },
  {
   "cell_type": "code",
   "execution_count": null,
   "metadata": {},
   "outputs": [],
   "source": [
    "#@title Ramachandran map for 5 residues {display-mode: \"form\"}\n",
    "\n",
    "#@markdown Enter the NUMBER of the middle residue:\n",
    "res_num=55  #@param {type:\"integer\"} \n",
    "\n",
    "subplot_titles = []\n",
    "\n",
    "for rn in range(res_num-2, res_num+3):\n",
    "    if str(rn) in res_w_predictions:\n",
    "        subplot_titles.append(residue(rn))\n",
    "    else:\n",
    "        continue\n",
    "        \n",
    "ncols = len(subplot_titles)\n",
    "nrows = 1\n",
    "\n",
    "fig = make_subplots(rows=nrows, cols=ncols, shared_xaxes=True, shared_yaxes=True, start_cell='top-left', \n",
    "                              subplot_titles=subplot_titles, column_widths=None, row_heights=None, specs=None, insets=None, x_title=\"$$\\phi$$\", y_title=\"$$\\psi$$\", figure=None)\n",
    "\n",
    "fig.update_layout(width=ncols*300, height=nrows*300+100)\n",
    "\n",
    "for i, res in enumerate(subplot_titles):\n",
    "    #print(i, res)\n",
    "    rama = predictions[res]\n",
    "    rama = np.rot90(rama.reshape(18,18), 1)\n",
    "    fig.add_heatmap(z=rama,\n",
    "            x=np.linspace(-180, 160, 18), #(-180, None, None, None, None, -80,  None, None, None, 0, None, None, None, 80, None, None, None, 160),\n",
    "            y=np.flip(np.linspace(-180, 160, 18)), # THIS WONT WORK\n",
    "            row = 1, col = i+1,\n",
    "                   )\n",
    "fig.update_traces(colorscale=\"YlGnBu\", hoverinfo=\"x+y\")\n",
    "fig.show()"
   ]
  }
 ],
 "metadata": {
  "colab": {
   "collapsed_sections": [],
   "name": "TALOSvis.ipynb",
   "provenance": []
  },
  "kernelspec": {
   "display_name": "Python 3 (ipykernel)",
   "language": "python",
   "name": "python3"
  },
  "language_info": {
   "codemirror_mode": {
    "name": "ipython",
    "version": 3
   },
   "file_extension": ".py",
   "mimetype": "text/x-python",
   "name": "python",
   "nbconvert_exporter": "python",
   "pygments_lexer": "ipython3",
   "version": "3.10.4"
  }
 },
 "nbformat": 4,
 "nbformat_minor": 4
}
