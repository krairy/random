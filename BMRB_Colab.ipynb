{
 "cells": [
  {
   "cell_type": "code",
   "execution_count": null,
   "id": "771708c0",
   "metadata": {},
   "outputs": [],
   "source": [
    "#@title Install dependencies\n",
    "%%bash -s $use_amber $use_templates\n",
    "\n",
    "pip install -q --no-warn-conflicts pynmrstar"
   ]
  },
  {
   "cell_type": "code",
   "execution_count": null,
   "id": "15e43c73",
   "metadata": {},
   "outputs": [],
   "source": [
    "#@title Import libraries and fetching the data\n",
    "\n",
    "import pynmrstar\n",
    "import pandas as pd\n",
    "import matplotlib.pyplot as plt\n",
    "import sys\n",
    "from io import StringIO\n",
    "\n",
    "#import plotly.express as px\n",
    "\n",
    "try:\n",
    "    bmrb_id = int(input(\"Enter the BMRB ID \\n For example, 51228 for Alex's SH3 assignments \"))\n",
    "    nmrstar = pynmrstar.Entry.from_database(bmrb_id)\n",
    "\n",
    "except ValueError:\n",
    "    print(\"Not a number\")\n",
    "except OSError:\n",
    "    print(f\"Entry {bmrb_id} does not exist in the public database\")\n",
    "    \n",
    "nmrstar = pynmrstar.Entry.from_database(bmrb_id)\n",
    "loops = nmrstar.get_saveframes_by_category('assigned_chemical_shifts')[0]\n",
    "shifts = loops['_Atom_chem_shift']\n",
    "\n",
    "## print(shifts)\n",
    "\n",
    "data = StringIO(shifts.get_data_as_csv().replace(\"_Atom_chem_shift.\", \"\"))\n",
    "df = pd.read_csv(data, index_col=0)\n",
    "## print(df.columns)\n",
    "print (\"Raw shifts\")\n",
    "df.tail(10)"
   ]
  },
  {
   "cell_type": "code",
   "execution_count": null,
   "id": "b7d3d47f",
   "metadata": {
    "scrolled": true
   },
   "outputs": [],
   "source": [
    "#@title Rearranging the data\n",
    "\n",
    "df1 = df[\"Seq_ID Comp_ID Atom_ID Val Val_err Ambiguity_code\".split()].set_index(\"Seq_ID Comp_ID Atom_ID\".split())\n",
    "df1.columns = \"ChemShift CS_error Ambiguity\".split()\n",
    "df1"
   ]
  },
  {
   "cell_type": "code",
   "execution_count": null,
   "id": "a3636998",
   "metadata": {},
   "outputs": [],
   "source": [
    "#@title Visualisation\n",
    "dimX = input(\"Which dimension to plot along X? \\n Hint: H N C CA CB HA\\n\")\n",
    "print()\n",
    "if dimX not in (\"H N C CA CB HA\".split()):\n",
    "    dimX = \"H\"\n",
    "dimY = input(\"Which dimension to plot along Y? \\n Hint: H N C CA CB HA\\n\")\n",
    "if dimY not in (\"H N C CA CB HA\".split()):\n",
    "    dimY = \"N\"\n",
    "\n",
    "x = df1[\"ChemShift\"].loc[:, :, dimX]\n",
    "y = df1[\"ChemShift\"].loc[:, :, dimY]\n",
    "\n",
    "df_2D = pd.merge(x, y, on=\"Seq_ID\", suffixes = (f'_{dimX}', f'_{dimY}'))\n",
    "fig = df_2D.plot(x=f\"ChemShift_{dimX}\", y=f\"ChemShift_{dimY}\", kind=\"scatter\", \n",
    "                 backend=\"plotly\", text=df_2D.index,\n",
    "          )\n",
    "\n",
    "fig.update_xaxes(\n",
    "    autorange=\"reversed\")\n",
    "fig.update_yaxes(\n",
    "    autorange=\"reversed\")\n",
    "fig.update_traces(textposition='top left')"
   ]
  },
  {
   "cell_type": "code",
   "execution_count": null,
   "id": "4e04d4d5",
   "metadata": {},
   "outputs": [],
   "source": []
  }
 ],
 "metadata": {
  "kernelspec": {
   "display_name": "Python 3 (ipykernel)",
   "language": "python",
   "name": "python3"
  },
  "language_info": {
   "codemirror_mode": {
    "name": "ipython",
    "version": 3
   },
   "file_extension": ".py",
   "mimetype": "text/x-python",
   "name": "python",
   "nbconvert_exporter": "python",
   "pygments_lexer": "ipython3",
   "version": "3.10.4"
  }
 },
 "nbformat": 4,
 "nbformat_minor": 5
}
