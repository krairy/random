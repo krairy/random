{
 "cells": [
  {
   "cell_type": "markdown",
   "id": "20beb9e0",
   "metadata": {},
   "source": [
    "<img src=\"https://github.com/krairy/utilities/blob/main/Linser%20Lab.JPG?raw=true\" height=\"50\" align=\"left\" style=\"height:60px\"> "
   ]
  },
  {
   "cell_type": "markdown",
   "id": "8fc4f2df",
   "metadata": {},
   "source": [
    "<img src=\"https://bmrb.io/images/BMRB_logo_icon.svg\" height=\"100\" align=\"left\" style=\"height:60px\">\n",
    "\n",
    "# BRMB vis\n",
    "This is a tool to visualise assignments from [BMRB](https://bmrb.io/).\n",
    "\n",
    "Simply run all cells below and follow the instructions!"
   ]
  },
  {
   "cell_type": "code",
   "execution_count": null,
   "id": "9d7c9d67",
   "metadata": {},
   "outputs": [],
   "source": [
    "#@title Install dependencies\n",
    "%%bash\n",
    "\n",
    "pip install -q --no-warn-conflicts pynmrstar"
   ]
  },
  {
   "cell_type": "code",
   "execution_count": null,
   "id": "b2c2e047",
   "metadata": {},
   "outputs": [],
   "source": [
    "#@title Import libraries and fetching the data\n",
    "\n",
    "import pynmrstar\n",
    "import pandas as pd\n",
    "import matplotlib.pyplot as plt\n",
    "import sys\n",
    "from io import StringIO\n",
    "\n",
    "#@markdown Enter the BMRB ID \n",
    "#@markdown For example, 51228 for Alex's SH3 assignments\n",
    "\n",
    "try:\n",
    "    bmrb_id = 51228 #@param {type:\"integer\"} \n",
    "    nmrstar = pynmrstar.Entry.from_database(bmrb_id)\n",
    "\n",
    "except ValueError:\n",
    "    print(\"Not a number\")\n",
    "except OSError:\n",
    "    print(f\"Entry {bmrb_id} does not exist in the public database\")\n",
    "    \n",
    "nmrstar = pynmrstar.Entry.from_database(bmrb_id)\n",
    "loops = nmrstar.get_saveframes_by_category('assigned_chemical_shifts')[0]\n",
    "shifts = loops['_Atom_chem_shift']\n",
    "\n",
    "## print(shifts)\n",
    "\n",
    "data = StringIO(shifts.get_data_as_csv().replace(\"_Atom_chem_shift.\", \"\"))\n",
    "df = pd.read_csv(data, index_col=0)\n",
    "\n",
    "## print(df.columns)\n",
    "\n",
    "#@markdown Raw datafrom NMR Star file\n",
    "\n",
    "df.tail(10)"
   ]
  },
  {
   "cell_type": "code",
   "execution_count": null,
   "id": "b7d3d47f",
   "metadata": {
    "scrolled": true
   },
   "outputs": [],
   "source": [
    "#@title Rearranging the data\n",
    "\n",
    "df1 = df[\"Seq_ID Comp_ID Atom_ID Val Val_err Ambiguity_code\".split()].set_index(\"Seq_ID Comp_ID Atom_ID\".split())\n",
    "df1.columns = \"ChemShift CS_error Ambiguity\".split()\n",
    "df1"
   ]
  },
  {
   "cell_type": "code",
   "execution_count": null,
   "id": "a3636998",
   "metadata": {},
   "outputs": [],
   "source": [
    "#@title Visualisation\n",
    "#@markdown Select chemical shifts for X and Y axes:\n",
    "\n",
    "dimX = \"H\" #@param \"H N C CA CB HA\".split() {type:\"string\"}\n",
    "dimY = \"N\" #@param \"H N C CA CB HA\".split() {type:\"string\"}\n",
    "\n",
    "x = df1[\"ChemShift\"].loc[:, :, dimX]\n",
    "y = df1[\"ChemShift\"].loc[:, :, dimY]\n",
    "\n",
    "df_2D = pd.merge(x, y, on=\"Seq_ID\", suffixes = (f'_{dimX}', f'_{dimY}'))\n",
    "fig = df_2D.plot(x=f\"ChemShift_{dimX}\", y=f\"ChemShift_{dimY}\", kind=\"scatter\", \n",
    "                 backend=\"plotly\", text=df_2D.index,\n",
    "          )\n",
    "\n",
    "fig.update_xaxes(\n",
    "    autorange=\"reversed\")\n",
    "fig.update_yaxes(\n",
    "    autorange=\"reversed\")\n",
    "fig.update_traces(textposition='top left')"
   ]
  }
 ],
 "metadata": {
  "kernelspec": {
   "display_name": "Python 3 (ipykernel)",
   "language": "python",
   "name": "python3"
  },
  "language_info": {
   "codemirror_mode": {
    "name": "ipython",
    "version": 3
   },
   "file_extension": ".py",
   "mimetype": "text/x-python",
   "name": "python",
   "nbconvert_exporter": "python",
   "pygments_lexer": "ipython3",
   "version": "3.10.4"
  }
 },
 "nbformat": 4,
 "nbformat_minor": 5
}
