{
 "cells": [
  {
   "cell_type": "markdown",
   "metadata": {},
   "source": [
    "<img src=\"https://tu-dortmund.sciebo.de/s/UGnVk4sv4ryF9ZF/download\" height=\"100\" align=\"center\" style=\"height:180px\"> "
   ]
  },
  {
   "cell_type": "markdown",
   "metadata": {},
   "source": [
    "<img src=\"https://spin.niddk.nih.gov/bax/software/TALOS-N/talosn.gif\" height=\"100\" align=\"left\" style=\"height:180px\">\n",
    "\n",
    "# &nbsp;TALOS vis\n",
    "&nbsp;&nbsp; This is a tool to visualise ramachandran maps predicted by [TALOS-N](https://spin.niddk.nih.gov/bax/software/TALOS-N/). \n",
    "\n",
    "&nbsp;&nbsp; Put the folder with the predictions to the directory with the Notebook."
   ]
  },
  {
   "cell_type": "code",
   "execution_count": 133,
   "metadata": {},
   "outputs": [],
   "source": [
    "#Import libraries {display-mode: \"form\"}\n",
    "\n",
    "import numpy as np\n",
    "import matplotlib.pyplot as plt\n",
    "from plotly.subplots import make_subplots\n",
    "#import plotly.graph_objects as go\n",
    "import plotly.express as px"
   ]
  },
  {
   "cell_type": "markdown",
   "metadata": {},
   "source": [
    "## Reading the TALOS files\n",
    "\n",
    "Change the path to the predictions if necessary"
   ]
  },
  {
   "cell_type": "code",
   "execution_count": 1,
   "metadata": {},
   "outputs": [],
   "source": [
    "path = \"./pred/\" # change if necessary\n",
    "res_num = 10  # residue number"
   ]
  },
  {
   "cell_type": "code",
   "execution_count": 118,
   "metadata": {},
   "outputs": [],
   "source": [
    "\n",
    "########################\n",
    "# Reading the sequence data\n",
    "########################\n",
    "\n",
    "first_residue_no = 1 # declaring a variable\n",
    "with open(f\"{path}/pred.tab\", 'r') as main:\n",
    "    seq_raw = []\n",
    "    for l_no, line in enumerate(main):\n",
    "        if 'DATA SEQUENCE' in line:\n",
    "            seq_raw.append(line)\n",
    "        if 'DATA FIRST_RESID' in line:\n",
    "            first_residue_no = int(line.split()[-1])\n",
    "        \n",
    "sequence = \"\"\n",
    "for seq in seq_raw:\n",
    "    sequence += seq.split()[2]\n",
    "\n",
    "def residue(res_num):\n",
    "    return str(res_num) + sequence[res_num-first_residue_no]\n",
    "\n",
    "########################\n",
    "# Reading the prediction data\n",
    "########################\n",
    "\n",
    "data_raw = []\n",
    "\n",
    "with open(f\"{path}/predABP.tab\", 'r') as pred:\n",
    "    for l_no, line in enumerate(pred):\n",
    "        if l_no>29: \n",
    "            data_raw.append(line)\n",
    "\n",
    "predictions = {}\n",
    "res_w_predictions = []\n",
    "\n",
    "for line in data_raw:\n",
    "    _ = line.split()\n",
    "    res_code = _[0] + _[1]\n",
    "    res_w_predictions.append(_[0])\n",
    "    predictions[res_code] = np.array([float(x) for x in _[6:]])"
   ]
  },
  {
   "cell_type": "code",
   "execution_count": 160,
   "metadata": {},
   "outputs": [],
   "source": [
    "#@markdown Please, enter the NUMBER of residue you are interested in.\n",
    "\n",
    "if str(res_num) not in res_w_predictions:\n",
    "    res_num = first_residue_no+1\n",
    "    print(f'No prediction is found for this residue. Please, type in the correct residue. \\nResidue number is set to {res_num}')\n",
    "    #raise Exception('WrongResidue')"
   ]
  },
  {
   "cell_type": "code",
   "execution_count": 220,
   "metadata": {},
   "outputs": [
    {
     "data": {
      "application/vnd.plotly.v1+json": {
       "config": {
        "plotlyServerURL": "https://plot.ly"
       },
       "data": [
        {
         "coloraxis": "coloraxis",
         "hovertemplate": "$$\\phi$$: %{x}<br>$$\\psi$$: %{y}<br>color: %{z}<extra></extra>",
         "name": "0",
         "type": "heatmap",
         "x": [
          -180,
          -160,
          -140,
          -120,
          -100,
          -80,
          -60,
          -40,
          -20,
          0,
          20,
          40,
          60,
          80,
          100,
          120,
          140,
          160
         ],
         "xaxis": "x",
         "y": [
          160,
          140,
          120,
          100,
          80,
          60,
          40,
          20,
          0,
          -20,
          -40,
          -60,
          -80,
          -100,
          -120,
          -140,
          -160,
          -180
         ],
         "yaxis": "y",
         "z": [
          [
           0,
           0,
           0,
           0,
           0,
           0,
           0,
           0,
           0,
           0,
           0.001,
           0.002,
           0,
           0.006,
           0.002,
           0,
           0.004,
           0.002
          ],
          [
           0,
           0,
           0,
           0,
           0,
           0,
           0,
           0,
           0,
           0,
           0,
           0,
           0.004,
           0,
           0,
           0,
           0,
           0
          ],
          [
           0.006,
           0.005,
           0,
           0,
           0,
           0,
           0,
           0,
           0,
           0,
           0.001,
           0,
           0,
           0,
           0,
           0.002,
           0,
           0
          ],
          [
           0,
           0,
           0,
           0,
           0,
           0,
           0,
           0,
           0,
           0,
           0,
           0.001,
           0,
           0.001,
           0,
           0.002,
           0,
           0
          ],
          [
           0,
           0,
           0.016,
           0,
           0.07,
           0.028,
           0.01,
           0.003,
           0,
           0,
           0.002,
           0,
           0,
           0.002,
           0,
           0,
           0.002,
           0.002
          ],
          [
           0.001,
           0.013,
           0.02,
           0.036,
           0.054,
           0.048,
           0.017,
           0.005,
           0,
           0.001,
           0,
           0.001,
           0,
           0,
           0,
           0.003,
           0,
           0
          ],
          [
           0.003,
           0.013,
           0.02,
           0.036,
           0.04,
           0.03,
           0.012,
           0.005,
           0.002,
           0,
           0.005,
           0.001,
           0,
           0,
           0,
           0.001,
           0.003,
           0.001
          ],
          [
           0.001,
           0.01,
           0.023,
           0.049,
           0.064,
           0.061,
           0.041,
           0.013,
           0.004,
           0.001,
           0,
           0,
           0.002,
           0,
           0.006,
           0,
           0,
           0.002
          ],
          [
           0,
           0.011,
           0,
           0.068,
           0.11,
           0.191,
           0.161,
           0.058,
           0.01,
           0,
           0.005,
           0.011,
           0,
           0,
           0,
           0,
           0,
           0
          ],
          [
           0,
           0.002,
           0.013,
           0.043,
           0.19,
           0.499,
           0.495,
           0.208,
           0.043,
           0.007,
           0,
           0,
           0,
           0.004,
           0.002,
           0,
           0,
           0.002
          ],
          [
           0.001,
           0,
           0.003,
           0.061,
           0.272,
           0.609,
           0.731,
           0.355,
           0.065,
           0.007,
           0,
           0,
           0,
           0,
           0.004,
           0,
           0.001,
           0
          ],
          [
           0,
           0,
           0.001,
           0.021,
           0.135,
           0.479,
           0.561,
           0.279,
           0.052,
           0.004,
           0.002,
           0,
           0,
           0,
           0,
           0,
           0.001,
           0
          ],
          [
           0,
           0.001,
           0,
           0.003,
           0.039,
           0.112,
           0.18,
           0.083,
           0.021,
           0.005,
           0.003,
           0,
           0,
           0,
           0,
           0.001,
           0,
           0.002
          ],
          [
           0,
           0,
           0,
           0,
           0.008,
           0.019,
           0.044,
           0.01,
           0.004,
           0.002,
           0,
           0.003,
           0.001,
           0.001,
           0.003,
           0.001,
           0,
           0
          ],
          [
           0,
           0.002,
           0.004,
           0.004,
           0.003,
           0,
           0.001,
           0,
           0.003,
           0,
           0.001,
           0.002,
           0.004,
           0.005,
           0.001,
           0,
           0,
           0
          ],
          [
           0,
           0,
           0,
           0,
           0.002,
           0,
           0.001,
           0,
           0.001,
           0,
           0.002,
           0.003,
           0,
           0.001,
           0,
           0,
           0,
           0
          ],
          [
           0,
           0.017,
           0.003,
           0,
           0,
           0,
           0,
           0.003,
           0,
           0,
           0,
           0,
           0,
           0,
           0,
           0,
           0.001,
           0.003
          ],
          [
           0.007,
           0,
           0,
           0,
           0,
           0,
           0,
           0,
           0.001,
           0,
           0,
           0,
           0,
           0.005,
           0,
           0,
           0.002,
           0.007
          ]
         ]
        }
       ],
       "layout": {
        "coloraxis": {
         "colorscale": [
          [
           0,
           "#0d0887"
          ],
          [
           0.1111111111111111,
           "#46039f"
          ],
          [
           0.2222222222222222,
           "#7201a8"
          ],
          [
           0.3333333333333333,
           "#9c179e"
          ],
          [
           0.4444444444444444,
           "#bd3786"
          ],
          [
           0.5555555555555556,
           "#d8576b"
          ],
          [
           0.6666666666666666,
           "#ed7953"
          ],
          [
           0.7777777777777778,
           "#fb9f3a"
          ],
          [
           0.8888888888888888,
           "#fdca26"
          ],
          [
           1,
           "#f0f921"
          ]
         ]
        },
        "height": 500,
        "template": {
         "data": {
          "bar": [
           {
            "error_x": {
             "color": "#2a3f5f"
            },
            "error_y": {
             "color": "#2a3f5f"
            },
            "marker": {
             "line": {
              "color": "#E5ECF6",
              "width": 0.5
             },
             "pattern": {
              "fillmode": "overlay",
              "size": 10,
              "solidity": 0.2
             }
            },
            "type": "bar"
           }
          ],
          "barpolar": [
           {
            "marker": {
             "line": {
              "color": "#E5ECF6",
              "width": 0.5
             },
             "pattern": {
              "fillmode": "overlay",
              "size": 10,
              "solidity": 0.2
             }
            },
            "type": "barpolar"
           }
          ],
          "carpet": [
           {
            "aaxis": {
             "endlinecolor": "#2a3f5f",
             "gridcolor": "white",
             "linecolor": "white",
             "minorgridcolor": "white",
             "startlinecolor": "#2a3f5f"
            },
            "baxis": {
             "endlinecolor": "#2a3f5f",
             "gridcolor": "white",
             "linecolor": "white",
             "minorgridcolor": "white",
             "startlinecolor": "#2a3f5f"
            },
            "type": "carpet"
           }
          ],
          "choropleth": [
           {
            "colorbar": {
             "outlinewidth": 0,
             "ticks": ""
            },
            "type": "choropleth"
           }
          ],
          "contour": [
           {
            "colorbar": {
             "outlinewidth": 0,
             "ticks": ""
            },
            "colorscale": [
             [
              0,
              "#0d0887"
             ],
             [
              0.1111111111111111,
              "#46039f"
             ],
             [
              0.2222222222222222,
              "#7201a8"
             ],
             [
              0.3333333333333333,
              "#9c179e"
             ],
             [
              0.4444444444444444,
              "#bd3786"
             ],
             [
              0.5555555555555556,
              "#d8576b"
             ],
             [
              0.6666666666666666,
              "#ed7953"
             ],
             [
              0.7777777777777778,
              "#fb9f3a"
             ],
             [
              0.8888888888888888,
              "#fdca26"
             ],
             [
              1,
              "#f0f921"
             ]
            ],
            "type": "contour"
           }
          ],
          "contourcarpet": [
           {
            "colorbar": {
             "outlinewidth": 0,
             "ticks": ""
            },
            "type": "contourcarpet"
           }
          ],
          "heatmap": [
           {
            "colorbar": {
             "outlinewidth": 0,
             "ticks": ""
            },
            "colorscale": [
             [
              0,
              "#0d0887"
             ],
             [
              0.1111111111111111,
              "#46039f"
             ],
             [
              0.2222222222222222,
              "#7201a8"
             ],
             [
              0.3333333333333333,
              "#9c179e"
             ],
             [
              0.4444444444444444,
              "#bd3786"
             ],
             [
              0.5555555555555556,
              "#d8576b"
             ],
             [
              0.6666666666666666,
              "#ed7953"
             ],
             [
              0.7777777777777778,
              "#fb9f3a"
             ],
             [
              0.8888888888888888,
              "#fdca26"
             ],
             [
              1,
              "#f0f921"
             ]
            ],
            "type": "heatmap"
           }
          ],
          "heatmapgl": [
           {
            "colorbar": {
             "outlinewidth": 0,
             "ticks": ""
            },
            "colorscale": [
             [
              0,
              "#0d0887"
             ],
             [
              0.1111111111111111,
              "#46039f"
             ],
             [
              0.2222222222222222,
              "#7201a8"
             ],
             [
              0.3333333333333333,
              "#9c179e"
             ],
             [
              0.4444444444444444,
              "#bd3786"
             ],
             [
              0.5555555555555556,
              "#d8576b"
             ],
             [
              0.6666666666666666,
              "#ed7953"
             ],
             [
              0.7777777777777778,
              "#fb9f3a"
             ],
             [
              0.8888888888888888,
              "#fdca26"
             ],
             [
              1,
              "#f0f921"
             ]
            ],
            "type": "heatmapgl"
           }
          ],
          "histogram": [
           {
            "marker": {
             "pattern": {
              "fillmode": "overlay",
              "size": 10,
              "solidity": 0.2
             }
            },
            "type": "histogram"
           }
          ],
          "histogram2d": [
           {
            "colorbar": {
             "outlinewidth": 0,
             "ticks": ""
            },
            "colorscale": [
             [
              0,
              "#0d0887"
             ],
             [
              0.1111111111111111,
              "#46039f"
             ],
             [
              0.2222222222222222,
              "#7201a8"
             ],
             [
              0.3333333333333333,
              "#9c179e"
             ],
             [
              0.4444444444444444,
              "#bd3786"
             ],
             [
              0.5555555555555556,
              "#d8576b"
             ],
             [
              0.6666666666666666,
              "#ed7953"
             ],
             [
              0.7777777777777778,
              "#fb9f3a"
             ],
             [
              0.8888888888888888,
              "#fdca26"
             ],
             [
              1,
              "#f0f921"
             ]
            ],
            "type": "histogram2d"
           }
          ],
          "histogram2dcontour": [
           {
            "colorbar": {
             "outlinewidth": 0,
             "ticks": ""
            },
            "colorscale": [
             [
              0,
              "#0d0887"
             ],
             [
              0.1111111111111111,
              "#46039f"
             ],
             [
              0.2222222222222222,
              "#7201a8"
             ],
             [
              0.3333333333333333,
              "#9c179e"
             ],
             [
              0.4444444444444444,
              "#bd3786"
             ],
             [
              0.5555555555555556,
              "#d8576b"
             ],
             [
              0.6666666666666666,
              "#ed7953"
             ],
             [
              0.7777777777777778,
              "#fb9f3a"
             ],
             [
              0.8888888888888888,
              "#fdca26"
             ],
             [
              1,
              "#f0f921"
             ]
            ],
            "type": "histogram2dcontour"
           }
          ],
          "mesh3d": [
           {
            "colorbar": {
             "outlinewidth": 0,
             "ticks": ""
            },
            "type": "mesh3d"
           }
          ],
          "parcoords": [
           {
            "line": {
             "colorbar": {
              "outlinewidth": 0,
              "ticks": ""
             }
            },
            "type": "parcoords"
           }
          ],
          "pie": [
           {
            "automargin": true,
            "type": "pie"
           }
          ],
          "scatter": [
           {
            "fillpattern": {
             "fillmode": "overlay",
             "size": 10,
             "solidity": 0.2
            },
            "type": "scatter"
           }
          ],
          "scatter3d": [
           {
            "line": {
             "colorbar": {
              "outlinewidth": 0,
              "ticks": ""
             }
            },
            "marker": {
             "colorbar": {
              "outlinewidth": 0,
              "ticks": ""
             }
            },
            "type": "scatter3d"
           }
          ],
          "scattercarpet": [
           {
            "marker": {
             "colorbar": {
              "outlinewidth": 0,
              "ticks": ""
             }
            },
            "type": "scattercarpet"
           }
          ],
          "scattergeo": [
           {
            "marker": {
             "colorbar": {
              "outlinewidth": 0,
              "ticks": ""
             }
            },
            "type": "scattergeo"
           }
          ],
          "scattergl": [
           {
            "marker": {
             "colorbar": {
              "outlinewidth": 0,
              "ticks": ""
             }
            },
            "type": "scattergl"
           }
          ],
          "scattermapbox": [
           {
            "marker": {
             "colorbar": {
              "outlinewidth": 0,
              "ticks": ""
             }
            },
            "type": "scattermapbox"
           }
          ],
          "scatterpolar": [
           {
            "marker": {
             "colorbar": {
              "outlinewidth": 0,
              "ticks": ""
             }
            },
            "type": "scatterpolar"
           }
          ],
          "scatterpolargl": [
           {
            "marker": {
             "colorbar": {
              "outlinewidth": 0,
              "ticks": ""
             }
            },
            "type": "scatterpolargl"
           }
          ],
          "scatterternary": [
           {
            "marker": {
             "colorbar": {
              "outlinewidth": 0,
              "ticks": ""
             }
            },
            "type": "scatterternary"
           }
          ],
          "surface": [
           {
            "colorbar": {
             "outlinewidth": 0,
             "ticks": ""
            },
            "colorscale": [
             [
              0,
              "#0d0887"
             ],
             [
              0.1111111111111111,
              "#46039f"
             ],
             [
              0.2222222222222222,
              "#7201a8"
             ],
             [
              0.3333333333333333,
              "#9c179e"
             ],
             [
              0.4444444444444444,
              "#bd3786"
             ],
             [
              0.5555555555555556,
              "#d8576b"
             ],
             [
              0.6666666666666666,
              "#ed7953"
             ],
             [
              0.7777777777777778,
              "#fb9f3a"
             ],
             [
              0.8888888888888888,
              "#fdca26"
             ],
             [
              1,
              "#f0f921"
             ]
            ],
            "type": "surface"
           }
          ],
          "table": [
           {
            "cells": {
             "fill": {
              "color": "#EBF0F8"
             },
             "line": {
              "color": "white"
             }
            },
            "header": {
             "fill": {
              "color": "#C8D4E3"
             },
             "line": {
              "color": "white"
             }
            },
            "type": "table"
           }
          ]
         },
         "layout": {
          "annotationdefaults": {
           "arrowcolor": "#2a3f5f",
           "arrowhead": 0,
           "arrowwidth": 1
          },
          "autotypenumbers": "strict",
          "coloraxis": {
           "colorbar": {
            "outlinewidth": 0,
            "ticks": ""
           }
          },
          "colorscale": {
           "diverging": [
            [
             0,
             "#8e0152"
            ],
            [
             0.1,
             "#c51b7d"
            ],
            [
             0.2,
             "#de77ae"
            ],
            [
             0.3,
             "#f1b6da"
            ],
            [
             0.4,
             "#fde0ef"
            ],
            [
             0.5,
             "#f7f7f7"
            ],
            [
             0.6,
             "#e6f5d0"
            ],
            [
             0.7,
             "#b8e186"
            ],
            [
             0.8,
             "#7fbc41"
            ],
            [
             0.9,
             "#4d9221"
            ],
            [
             1,
             "#276419"
            ]
           ],
           "sequential": [
            [
             0,
             "#0d0887"
            ],
            [
             0.1111111111111111,
             "#46039f"
            ],
            [
             0.2222222222222222,
             "#7201a8"
            ],
            [
             0.3333333333333333,
             "#9c179e"
            ],
            [
             0.4444444444444444,
             "#bd3786"
            ],
            [
             0.5555555555555556,
             "#d8576b"
            ],
            [
             0.6666666666666666,
             "#ed7953"
            ],
            [
             0.7777777777777778,
             "#fb9f3a"
            ],
            [
             0.8888888888888888,
             "#fdca26"
            ],
            [
             1,
             "#f0f921"
            ]
           ],
           "sequentialminus": [
            [
             0,
             "#0d0887"
            ],
            [
             0.1111111111111111,
             "#46039f"
            ],
            [
             0.2222222222222222,
             "#7201a8"
            ],
            [
             0.3333333333333333,
             "#9c179e"
            ],
            [
             0.4444444444444444,
             "#bd3786"
            ],
            [
             0.5555555555555556,
             "#d8576b"
            ],
            [
             0.6666666666666666,
             "#ed7953"
            ],
            [
             0.7777777777777778,
             "#fb9f3a"
            ],
            [
             0.8888888888888888,
             "#fdca26"
            ],
            [
             1,
             "#f0f921"
            ]
           ]
          },
          "colorway": [
           "#636efa",
           "#EF553B",
           "#00cc96",
           "#ab63fa",
           "#FFA15A",
           "#19d3f3",
           "#FF6692",
           "#B6E880",
           "#FF97FF",
           "#FECB52"
          ],
          "font": {
           "color": "#2a3f5f"
          },
          "geo": {
           "bgcolor": "white",
           "lakecolor": "white",
           "landcolor": "#E5ECF6",
           "showlakes": true,
           "showland": true,
           "subunitcolor": "white"
          },
          "hoverlabel": {
           "align": "left"
          },
          "hovermode": "closest",
          "mapbox": {
           "style": "light"
          },
          "paper_bgcolor": "white",
          "plot_bgcolor": "#E5ECF6",
          "polar": {
           "angularaxis": {
            "gridcolor": "white",
            "linecolor": "white",
            "ticks": ""
           },
           "bgcolor": "#E5ECF6",
           "radialaxis": {
            "gridcolor": "white",
            "linecolor": "white",
            "ticks": ""
           }
          },
          "scene": {
           "xaxis": {
            "backgroundcolor": "#E5ECF6",
            "gridcolor": "white",
            "gridwidth": 2,
            "linecolor": "white",
            "showbackground": true,
            "ticks": "",
            "zerolinecolor": "white"
           },
           "yaxis": {
            "backgroundcolor": "#E5ECF6",
            "gridcolor": "white",
            "gridwidth": 2,
            "linecolor": "white",
            "showbackground": true,
            "ticks": "",
            "zerolinecolor": "white"
           },
           "zaxis": {
            "backgroundcolor": "#E5ECF6",
            "gridcolor": "white",
            "gridwidth": 2,
            "linecolor": "white",
            "showbackground": true,
            "ticks": "",
            "zerolinecolor": "white"
           }
          },
          "shapedefaults": {
           "line": {
            "color": "#2a3f5f"
           }
          },
          "ternary": {
           "aaxis": {
            "gridcolor": "white",
            "linecolor": "white",
            "ticks": ""
           },
           "baxis": {
            "gridcolor": "white",
            "linecolor": "white",
            "ticks": ""
           },
           "bgcolor": "#E5ECF6",
           "caxis": {
            "gridcolor": "white",
            "linecolor": "white",
            "ticks": ""
           }
          },
          "title": {
           "x": 0.05
          },
          "xaxis": {
           "automargin": true,
           "gridcolor": "white",
           "linecolor": "white",
           "ticks": "",
           "title": {
            "standoff": 15
           },
           "zerolinecolor": "white",
           "zerolinewidth": 2
          },
          "yaxis": {
           "automargin": true,
           "gridcolor": "white",
           "linecolor": "white",
           "ticks": "",
           "title": {
            "standoff": 15
           },
           "zerolinecolor": "white",
           "zerolinewidth": 2
          }
         }
        },
        "title": {
         "font": {
          "family": "Open Sans",
          "size": 24
         },
         "text": "55A",
         "x": 0.5,
         "y": 0.9
        },
        "width": 500,
        "xaxis": {
         "anchor": "y",
         "autorange": true,
         "constrain": "domain",
         "domain": [
          0.018072289156626564,
          0.9819277108433735
         ],
         "range": [
          -190,
          170
         ],
         "scaleanchor": "y",
         "title": {
          "text": "$$\\phi$$"
         },
         "type": "linear"
        },
        "yaxis": {
         "anchor": "x",
         "autorange": true,
         "constrain": "domain",
         "domain": [
          0,
          1
         ],
         "range": [
          -190,
          170
         ],
         "title": {
          "text": "$$\\psi$$"
         },
         "type": "linear"
        }
       }
      },
      "image/png": "[encoded data removed]",
      "text/html": [
       "<div>                            <div id=\"80832eb0-3249-4350-a401-4b95fb0abe16\" class=\"plotly-graph-div\" style=\"height:500px; width:500px;\"></div>            <script type=\"text/javascript\">                require([\"plotly\"], function(Plotly) {                    window.PLOTLYENV=window.PLOTLYENV || {};                                    if (document.getElementById(\"80832eb0-3249-4350-a401-4b95fb0abe16\")) {                    Plotly.newPlot(                        \"80832eb0-3249-4350-a401-4b95fb0abe16\",                        [{\"coloraxis\":\"coloraxis\",\"name\":\"0\",\"x\":[-180.0,-160.0,-140.0,-120.0,-100.0,-80.0,-60.0,-40.0,-20.0,0.0,20.0,40.0,60.0,80.0,100.0,120.0,140.0,160.0],\"y\":[160.0,140.0,120.0,100.0,80.0,60.0,40.0,20.0,0.0,-20.0,-40.0,-60.0,-80.0,-100.0,-120.0,-140.0,-160.0,-180.0],\"z\":[[0.0,0.0,0.0,0.0,0.0,0.0,0.0,0.0,0.0,0.0,0.001,0.002,0.0,0.006,0.002,0.0,0.004,0.002],[0.0,0.0,0.0,0.0,0.0,0.0,0.0,0.0,0.0,0.0,0.0,0.0,0.004,0.0,0.0,0.0,0.0,0.0],[0.006,0.005,0.0,0.0,0.0,0.0,0.0,0.0,0.0,0.0,0.001,0.0,0.0,0.0,0.0,0.002,0.0,0.0],[0.0,0.0,0.0,0.0,0.0,0.0,0.0,0.0,0.0,0.0,0.0,0.001,0.0,0.001,0.0,0.002,0.0,0.0],[0.0,0.0,0.016,0.0,0.07,0.028,0.01,0.003,0.0,0.0,0.002,0.0,0.0,0.002,0.0,0.0,0.002,0.002],[0.001,0.013,0.02,0.036,0.054,0.048,0.017,0.005,0.0,0.001,0.0,0.001,0.0,0.0,0.0,0.003,0.0,0.0],[0.003,0.013,0.02,0.036,0.04,0.03,0.012,0.005,0.002,0.0,0.005,0.001,0.0,0.0,0.0,0.001,0.003,0.001],[0.001,0.01,0.023,0.049,0.064,0.061,0.041,0.013,0.004,0.001,0.0,0.0,0.002,0.0,0.006,0.0,0.0,0.002],[0.0,0.011,0.0,0.068,0.11,0.191,0.161,0.058,0.01,0.0,0.005,0.011,0.0,0.0,0.0,0.0,0.0,0.0],[0.0,0.002,0.013,0.043,0.19,0.499,0.495,0.208,0.043,0.007,0.0,0.0,0.0,0.004,0.002,0.0,0.0,0.002],[0.001,0.0,0.003,0.061,0.272,0.609,0.731,0.355,0.065,0.007,0.0,0.0,0.0,0.0,0.004,0.0,0.001,0.0],[0.0,0.0,0.001,0.021,0.135,0.479,0.561,0.279,0.052,0.004,0.002,0.0,0.0,0.0,0.0,0.0,0.001,0.0],[0.0,0.001,0.0,0.003,0.039,0.112,0.18,0.083,0.021,0.005,0.003,0.0,0.0,0.0,0.0,0.001,0.0,0.002],[0.0,0.0,0.0,0.0,0.008,0.019,0.044,0.01,0.004,0.002,0.0,0.003,0.001,0.001,0.003,0.001,0.0,0.0],[0.0,0.002,0.004,0.004,0.003,0.0,0.001,0.0,0.003,0.0,0.001,0.002,0.004,0.005,0.001,0.0,0.0,0.0],[0.0,0.0,0.0,0.0,0.002,0.0,0.001,0.0,0.001,0.0,0.002,0.003,0.0,0.001,0.0,0.0,0.0,0.0],[0.0,0.017,0.003,0.0,0.0,0.0,0.0,0.003,0.0,0.0,0.0,0.0,0.0,0.0,0.0,0.0,0.001,0.003],[0.007,0.0,0.0,0.0,0.0,0.0,0.0,0.0,0.001,0.0,0.0,0.0,0.0,0.005,0.0,0.0,0.002,0.007]],\"type\":\"heatmap\",\"xaxis\":\"x\",\"yaxis\":\"y\",\"hovertemplate\":\"$$\\\\phi$$: %{x}<br>$$\\\\psi$$: %{y}<br>color: %{z}<extra></extra>\"}],                        {\"template\":{\"data\":{\"histogram2dcontour\":[{\"type\":\"histogram2dcontour\",\"colorbar\":{\"outlinewidth\":0,\"ticks\":\"\"},\"colorscale\":[[0.0,\"#0d0887\"],[0.1111111111111111,\"#46039f\"],[0.2222222222222222,\"#7201a8\"],[0.3333333333333333,\"#9c179e\"],[0.4444444444444444,\"#bd3786\"],[0.5555555555555556,\"#d8576b\"],[0.6666666666666666,\"#ed7953\"],[0.7777777777777778,\"#fb9f3a\"],[0.8888888888888888,\"#fdca26\"],[1.0,\"#f0f921\"]]}],\"choropleth\":[{\"type\":\"choropleth\",\"colorbar\":{\"outlinewidth\":0,\"ticks\":\"\"}}],\"histogram2d\":[{\"type\":\"histogram2d\",\"colorbar\":{\"outlinewidth\":0,\"ticks\":\"\"},\"colorscale\":[[0.0,\"#0d0887\"],[0.1111111111111111,\"#46039f\"],[0.2222222222222222,\"#7201a8\"],[0.3333333333333333,\"#9c179e\"],[0.4444444444444444,\"#bd3786\"],[0.5555555555555556,\"#d8576b\"],[0.6666666666666666,\"#ed7953\"],[0.7777777777777778,\"#fb9f3a\"],[0.8888888888888888,\"#fdca26\"],[1.0,\"#f0f921\"]]}],\"heatmap\":[{\"type\":\"heatmap\",\"colorbar\":{\"outlinewidth\":0,\"ticks\":\"\"},\"colorscale\":[[0.0,\"#0d0887\"],[0.1111111111111111,\"#46039f\"],[0.2222222222222222,\"#7201a8\"],[0.3333333333333333,\"#9c179e\"],[0.4444444444444444,\"#bd3786\"],[0.5555555555555556,\"#d8576b\"],[0.6666666666666666,\"#ed7953\"],[0.7777777777777778,\"#fb9f3a\"],[0.8888888888888888,\"#fdca26\"],[1.0,\"#f0f921\"]]}],\"heatmapgl\":[{\"type\":\"heatmapgl\",\"colorbar\":{\"outlinewidth\":0,\"ticks\":\"\"},\"colorscale\":[[0.0,\"#0d0887\"],[0.1111111111111111,\"#46039f\"],[0.2222222222222222,\"#7201a8\"],[0.3333333333333333,\"#9c179e\"],[0.4444444444444444,\"#bd3786\"],[0.5555555555555556,\"#d8576b\"],[0.6666666666666666,\"#ed7953\"],[0.7777777777777778,\"#fb9f3a\"],[0.8888888888888888,\"#fdca26\"],[1.0,\"#f0f921\"]]}],\"contourcarpet\":[{\"type\":\"contourcarpet\",\"colorbar\":{\"outlinewidth\":0,\"ticks\":\"\"}}],\"contour\":[{\"type\":\"contour\",\"colorbar\":{\"outlinewidth\":0,\"ticks\":\"\"},\"colorscale\":[[0.0,\"#0d0887\"],[0.1111111111111111,\"#46039f\"],[0.2222222222222222,\"#7201a8\"],[0.3333333333333333,\"#9c179e\"],[0.4444444444444444,\"#bd3786\"],[0.5555555555555556,\"#d8576b\"],[0.6666666666666666,\"#ed7953\"],[0.7777777777777778,\"#fb9f3a\"],[0.8888888888888888,\"#fdca26\"],[1.0,\"#f0f921\"]]}],\"surface\":[{\"type\":\"surface\",\"colorbar\":{\"outlinewidth\":0,\"ticks\":\"\"},\"colorscale\":[[0.0,\"#0d0887\"],[0.1111111111111111,\"#46039f\"],[0.2222222222222222,\"#7201a8\"],[0.3333333333333333,\"#9c179e\"],[0.4444444444444444,\"#bd3786\"],[0.5555555555555556,\"#d8576b\"],[0.6666666666666666,\"#ed7953\"],[0.7777777777777778,\"#fb9f3a\"],[0.8888888888888888,\"#fdca26\"],[1.0,\"#f0f921\"]]}],\"mesh3d\":[{\"type\":\"mesh3d\",\"colorbar\":{\"outlinewidth\":0,\"ticks\":\"\"}}],\"scatter\":[{\"fillpattern\":{\"fillmode\":\"overlay\",\"size\":10,\"solidity\":0.2},\"type\":\"scatter\"}],\"parcoords\":[{\"type\":\"parcoords\",\"line\":{\"colorbar\":{\"outlinewidth\":0,\"ticks\":\"\"}}}],\"scatterpolargl\":[{\"type\":\"scatterpolargl\",\"marker\":{\"colorbar\":{\"outlinewidth\":0,\"ticks\":\"\"}}}],\"bar\":[{\"error_x\":{\"color\":\"#2a3f5f\"},\"error_y\":{\"color\":\"#2a3f5f\"},\"marker\":{\"line\":{\"color\":\"#E5ECF6\",\"width\":0.5},\"pattern\":{\"fillmode\":\"overlay\",\"size\":10,\"solidity\":0.2}},\"type\":\"bar\"}],\"scattergeo\":[{\"type\":\"scattergeo\",\"marker\":{\"colorbar\":{\"outlinewidth\":0,\"ticks\":\"\"}}}],\"scatterpolar\":[{\"type\":\"scatterpolar\",\"marker\":{\"colorbar\":{\"outlinewidth\":0,\"ticks\":\"\"}}}],\"histogram\":[{\"marker\":{\"pattern\":{\"fillmode\":\"overlay\",\"size\":10,\"solidity\":0.2}},\"type\":\"histogram\"}],\"scattergl\":[{\"type\":\"scattergl\",\"marker\":{\"colorbar\":{\"outlinewidth\":0,\"ticks\":\"\"}}}],\"scatter3d\":[{\"type\":\"scatter3d\",\"line\":{\"colorbar\":{\"outlinewidth\":0,\"ticks\":\"\"}},\"marker\":{\"colorbar\":{\"outlinewidth\":0,\"ticks\":\"\"}}}],\"scattermapbox\":[{\"type\":\"scattermapbox\",\"marker\":{\"colorbar\":{\"outlinewidth\":0,\"ticks\":\"\"}}}],\"scatterternary\":[{\"type\":\"scatterternary\",\"marker\":{\"colorbar\":{\"outlinewidth\":0,\"ticks\":\"\"}}}],\"scattercarpet\":[{\"type\":\"scattercarpet\",\"marker\":{\"colorbar\":{\"outlinewidth\":0,\"ticks\":\"\"}}}],\"carpet\":[{\"aaxis\":{\"endlinecolor\":\"#2a3f5f\",\"gridcolor\":\"white\",\"linecolor\":\"white\",\"minorgridcolor\":\"white\",\"startlinecolor\":\"#2a3f5f\"},\"baxis\":{\"endlinecolor\":\"#2a3f5f\",\"gridcolor\":\"white\",\"linecolor\":\"white\",\"minorgridcolor\":\"white\",\"startlinecolor\":\"#2a3f5f\"},\"type\":\"carpet\"}],\"table\":[{\"cells\":{\"fill\":{\"color\":\"#EBF0F8\"},\"line\":{\"color\":\"white\"}},\"header\":{\"fill\":{\"color\":\"#C8D4E3\"},\"line\":{\"color\":\"white\"}},\"type\":\"table\"}],\"barpolar\":[{\"marker\":{\"line\":{\"color\":\"#E5ECF6\",\"width\":0.5},\"pattern\":{\"fillmode\":\"overlay\",\"size\":10,\"solidity\":0.2}},\"type\":\"barpolar\"}],\"pie\":[{\"automargin\":true,\"type\":\"pie\"}]},\"layout\":{\"autotypenumbers\":\"strict\",\"colorway\":[\"#636efa\",\"#EF553B\",\"#00cc96\",\"#ab63fa\",\"#FFA15A\",\"#19d3f3\",\"#FF6692\",\"#B6E880\",\"#FF97FF\",\"#FECB52\"],\"font\":{\"color\":\"#2a3f5f\"},\"hovermode\":\"closest\",\"hoverlabel\":{\"align\":\"left\"},\"paper_bgcolor\":\"white\",\"plot_bgcolor\":\"#E5ECF6\",\"polar\":{\"bgcolor\":\"#E5ECF6\",\"angularaxis\":{\"gridcolor\":\"white\",\"linecolor\":\"white\",\"ticks\":\"\"},\"radialaxis\":{\"gridcolor\":\"white\",\"linecolor\":\"white\",\"ticks\":\"\"}},\"ternary\":{\"bgcolor\":\"#E5ECF6\",\"aaxis\":{\"gridcolor\":\"white\",\"linecolor\":\"white\",\"ticks\":\"\"},\"baxis\":{\"gridcolor\":\"white\",\"linecolor\":\"white\",\"ticks\":\"\"},\"caxis\":{\"gridcolor\":\"white\",\"linecolor\":\"white\",\"ticks\":\"\"}},\"coloraxis\":{\"colorbar\":{\"outlinewidth\":0,\"ticks\":\"\"}},\"colorscale\":{\"sequential\":[[0.0,\"#0d0887\"],[0.1111111111111111,\"#46039f\"],[0.2222222222222222,\"#7201a8\"],[0.3333333333333333,\"#9c179e\"],[0.4444444444444444,\"#bd3786\"],[0.5555555555555556,\"#d8576b\"],[0.6666666666666666,\"#ed7953\"],[0.7777777777777778,\"#fb9f3a\"],[0.8888888888888888,\"#fdca26\"],[1.0,\"#f0f921\"]],\"sequentialminus\":[[0.0,\"#0d0887\"],[0.1111111111111111,\"#46039f\"],[0.2222222222222222,\"#7201a8\"],[0.3333333333333333,\"#9c179e\"],[0.4444444444444444,\"#bd3786\"],[0.5555555555555556,\"#d8576b\"],[0.6666666666666666,\"#ed7953\"],[0.7777777777777778,\"#fb9f3a\"],[0.8888888888888888,\"#fdca26\"],[1.0,\"#f0f921\"]],\"diverging\":[[0,\"#8e0152\"],[0.1,\"#c51b7d\"],[0.2,\"#de77ae\"],[0.3,\"#f1b6da\"],[0.4,\"#fde0ef\"],[0.5,\"#f7f7f7\"],[0.6,\"#e6f5d0\"],[0.7,\"#b8e186\"],[0.8,\"#7fbc41\"],[0.9,\"#4d9221\"],[1,\"#276419\"]]},\"xaxis\":{\"gridcolor\":\"white\",\"linecolor\":\"white\",\"ticks\":\"\",\"title\":{\"standoff\":15},\"zerolinecolor\":\"white\",\"automargin\":true,\"zerolinewidth\":2},\"yaxis\":{\"gridcolor\":\"white\",\"linecolor\":\"white\",\"ticks\":\"\",\"title\":{\"standoff\":15},\"zerolinecolor\":\"white\",\"automargin\":true,\"zerolinewidth\":2},\"scene\":{\"xaxis\":{\"backgroundcolor\":\"#E5ECF6\",\"gridcolor\":\"white\",\"linecolor\":\"white\",\"showbackground\":true,\"ticks\":\"\",\"zerolinecolor\":\"white\",\"gridwidth\":2},\"yaxis\":{\"backgroundcolor\":\"#E5ECF6\",\"gridcolor\":\"white\",\"linecolor\":\"white\",\"showbackground\":true,\"ticks\":\"\",\"zerolinecolor\":\"white\",\"gridwidth\":2},\"zaxis\":{\"backgroundcolor\":\"#E5ECF6\",\"gridcolor\":\"white\",\"linecolor\":\"white\",\"showbackground\":true,\"ticks\":\"\",\"zerolinecolor\":\"white\",\"gridwidth\":2}},\"shapedefaults\":{\"line\":{\"color\":\"#2a3f5f\"}},\"annotationdefaults\":{\"arrowcolor\":\"#2a3f5f\",\"arrowhead\":0,\"arrowwidth\":1},\"geo\":{\"bgcolor\":\"white\",\"landcolor\":\"#E5ECF6\",\"subunitcolor\":\"white\",\"showland\":true,\"showlakes\":true,\"lakecolor\":\"white\"},\"title\":{\"x\":0.05},\"mapbox\":{\"style\":\"light\"}}},\"xaxis\":{\"anchor\":\"y\",\"domain\":[0.0,1.0],\"scaleanchor\":\"y\",\"constrain\":\"domain\",\"title\":{\"text\":\"$$\\\\phi$$\"}},\"yaxis\":{\"anchor\":\"x\",\"domain\":[0.0,1.0],\"autorange\":true,\"constrain\":\"domain\",\"title\":{\"text\":\"$$\\\\psi$$\"}},\"coloraxis\":{\"colorscale\":[[0.0,\"#0d0887\"],[0.1111111111111111,\"#46039f\"],[0.2222222222222222,\"#7201a8\"],[0.3333333333333333,\"#9c179e\"],[0.4444444444444444,\"#bd3786\"],[0.5555555555555556,\"#d8576b\"],[0.6666666666666666,\"#ed7953\"],[0.7777777777777778,\"#fb9f3a\"],[0.8888888888888888,\"#fdca26\"],[1.0,\"#f0f921\"]]},\"title\":{\"text\":\"55A\",\"font\":{\"family\":\"Open Sans\",\"size\":24},\"x\":0.5,\"y\":0.9},\"height\":500,\"width\":500},                        {\"responsive\": true}                    ).then(function(){\n",
       "                            \n",
       "var gd = document.getElementById('80832eb0-3249-4350-a401-4b95fb0abe16');\n",
       "var x = new MutationObserver(function (mutations, observer) {{\n",
       "        var display = window.getComputedStyle(gd).display;\n",
       "        if (!display || display === 'none') {{\n",
       "            console.log([gd, 'removed!']);\n",
       "            Plotly.purge(gd);\n",
       "            observer.disconnect();\n",
       "        }}\n",
       "}});\n",
       "\n",
       "// Listen for the removal of the full notebook cells\n",
       "var notebookContainer = gd.closest('#notebook-container');\n",
       "if (notebookContainer) {{\n",
       "    x.observe(notebookContainer, {childList: true});\n",
       "}}\n",
       "\n",
       "// Listen for the clearing of the current output cell\n",
       "var outputEl = gd.closest('.output');\n",
       "if (outputEl) {{\n",
       "    x.observe(outputEl, {childList: true});\n",
       "}}\n",
       "\n",
       "                        })                };                });            </script>        </div>"
      ]
     },
     "metadata": {},
     "output_type": "display_data"
    }
   ],
   "source": [
    "#@markdown Ramachandran map for one residue:\n",
    "\n",
    "rama = predictions[residue(res_num)]\n",
    "rama = np.rot90(rama.reshape(18,18), 1)\n",
    "\n",
    "fig = px.imshow(rama,\n",
    "                labels=dict(x=\"$$\\phi$$\", y=\"$$\\psi$$\"),\n",
    "                width=500, height=500, #size in pixels\n",
    "                x=np.linspace(-180, 160, 18), #(-180, None, None, None, None, -80,  None, None, None, 0, None, None, None, 80, None, None, None, 160),\n",
    "                y=np.flip(np.linspace(-180, 160, 18)), origin=\"lower\", # THIS WONT WORK\n",
    "                #y=(170, None, None, None, None, 70,  None, None, None, -10, None, None, None, -90, None, None, None, -170) ### THIS WONT WORK\n",
    "                #y=np.linspace(-180, 160, 18) #THIS WORKS but the axis is flipped\n",
    "                title=f\"{residue(res_num)}\",\n",
    "               )\n",
    "#fig.update_traces(colorscale=\"YlGnBu\", hoverinfo=\"x+y\")\n",
    "fig.update_layout(title=dict(x=0.5, y=0.9, font=dict(family=\"Open Sans\", size=24)))\n",
    "\n",
    "fig.show()"
   ]
  },
  {
   "cell_type": "code",
   "execution_count": 219,
   "metadata": {},
   "outputs": [
    {
     "data": {
      "application/vnd.plotly.v1+json": {
       "config": {
        "plotlyServerURL": "https://plot.ly"
       },
       "data": [
        {
         "colorscale": [
          [
           0,
           "rgb(255,255,217)"
          ],
          [
           0.125,
           "rgb(237,248,177)"
          ],
          [
           0.25,
           "rgb(199,233,180)"
          ],
          [
           0.375,
           "rgb(127,205,187)"
          ],
          [
           0.5,
           "rgb(65,182,196)"
          ],
          [
           0.625,
           "rgb(29,145,192)"
          ],
          [
           0.75,
           "rgb(34,94,168)"
          ],
          [
           0.875,
           "rgb(37,52,148)"
          ],
          [
           1,
           "rgb(8,29,88)"
          ]
         ],
         "hoverinfo": "x+y",
         "type": "heatmap",
         "x": [
          -180,
          -160,
          -140,
          -120,
          -100,
          -80,
          -60,
          -40,
          -20,
          0,
          20,
          40,
          60,
          80,
          100,
          120,
          140,
          160
         ],
         "xaxis": "x",
         "y": [
          160,
          140,
          120,
          100,
          80,
          60,
          40,
          20,
          0,
          -20,
          -40,
          -60,
          -80,
          -100,
          -120,
          -140,
          -160,
          -180
         ],
         "yaxis": "y",
         "z": [
          [
           0.121,
           0.267,
           0.389,
           0.365,
           0.211,
           0.047,
           0,
           0,
           0,
           0.002,
           0,
           0,
           0,
           0,
           0,
           0.005,
           0.005,
           0.019
          ],
          [
           0.113,
           0.322,
           0.513,
           0.479,
           0.276,
           0.085,
           0,
           0,
           0,
           0,
           0,
           0,
           0.001,
           0,
           0.003,
           0.001,
           0,
           0.027
          ],
          [
           0.061,
           0.196,
           0.378,
           0.411,
           0.266,
           0.039,
           0,
           0,
           0,
           0,
           0,
           0,
           0.002,
           0.001,
           0,
           0.001,
           0,
           0.008
          ],
          [
           0.029,
           0.093,
           0.193,
           0.213,
           0.128,
           0.016,
           0,
           0,
           0,
           0,
           0.002,
           0.002,
           0,
           0.002,
           0,
           0,
           0.001,
           0.003
          ],
          [
           0.011,
           0.049,
           0.091,
           0.098,
           0.057,
           0,
           0,
           0,
           0,
           0,
           0,
           0.002,
           0,
           0.001,
           0.001,
           0,
           0.001,
           0.001
          ],
          [
           0.008,
           0.029,
           0.066,
           0.053,
           0.024,
           0.011,
           0.001,
           0,
           0,
           0,
           0.003,
           0,
           0,
           0.001,
           0.001,
           0.002,
           0,
           0.003
          ],
          [
           0.001,
           0.013,
           0.016,
           0.014,
           0,
           0,
           0,
           0,
           0.001,
           0,
           0.002,
           0,
           0,
           0.001,
           0,
           0,
           0.001,
           0.001
          ],
          [
           0.002,
           0.003,
           0.011,
           0.002,
           0,
           0,
           0.001,
           0,
           0,
           0.001,
           0.004,
           0,
           0,
           0,
           0,
           0,
           0,
           0
          ],
          [
           0.002,
           0.007,
           0.014,
           0.01,
           0,
           0,
           0,
           0,
           0,
           0,
           0,
           0,
           0,
           0,
           0,
           0,
           0,
           0.001
          ],
          [
           0,
           0,
           0.014,
           0.018,
           0,
           0,
           0,
           0.001,
           0.001,
           0.001,
           0,
           0,
           0,
           0,
           0,
           0,
           0,
           0
          ],
          [
           0.001,
           0,
           0,
           0.019,
           0,
           0.016,
           0.044,
           0,
           0,
           0,
           0,
           0,
           0.002,
           0,
           0,
           0,
           0.001,
           0
          ],
          [
           0,
           0,
           0.003,
           0.01,
           0.031,
           0.033,
           0.025,
           0,
           0,
           0,
           0,
           0,
           0,
           0,
           0,
           0,
           0,
           0
          ],
          [
           0,
           0,
           0.003,
           0,
           0,
           0.001,
           0,
           0,
           0.001,
           0.001,
           0,
           0.001,
           0,
           0,
           0.001,
           0,
           0,
           0
          ],
          [
           0.001,
           0,
           0.003,
           0,
           0.003,
           0,
           0.006,
           0,
           0,
           0,
           0,
           0.001,
           0,
           0,
           0.001,
           0,
           0.001,
           0.001
          ],
          [
           0,
           0.001,
           0.002,
           0.003,
           0,
           0.004,
           0.001,
           0,
           0,
           0,
           0,
           0,
           0.001,
           0.002,
           0,
           0,
           0,
           0
          ],
          [
           0.002,
           0.004,
           0.006,
           0.002,
           0.003,
           0,
           0,
           0,
           0,
           0,
           0.002,
           0.001,
           0,
           0,
           0,
           0,
           0,
           0.001
          ],
          [
           0.011,
           0.034,
           0.042,
           0.031,
           0.015,
           0.006,
           0,
           0,
           0,
           0,
           0,
           0.002,
           0,
           0,
           0.002,
           0.001,
           0.002,
           0.005
          ],
          [
           0.055,
           0.12,
           0.171,
           0.132,
           0.07,
           0.016,
           0.001,
           0,
           0,
           0,
           0.001,
           0,
           0.001,
           0.002,
           0.004,
           0,
           0.005,
           0.012
          ]
         ]
        },
        {
         "colorscale": [
          [
           0,
           "rgb(255,255,217)"
          ],
          [
           0.125,
           "rgb(237,248,177)"
          ],
          [
           0.25,
           "rgb(199,233,180)"
          ],
          [
           0.375,
           "rgb(127,205,187)"
          ],
          [
           0.5,
           "rgb(65,182,196)"
          ],
          [
           0.625,
           "rgb(29,145,192)"
          ],
          [
           0.75,
           "rgb(34,94,168)"
          ],
          [
           0.875,
           "rgb(37,52,148)"
          ],
          [
           1,
           "rgb(8,29,88)"
          ]
         ],
         "hoverinfo": "x+y",
         "type": "heatmap",
         "x": [
          -180,
          -160,
          -140,
          -120,
          -100,
          -80,
          -60,
          -40,
          -20,
          0,
          20,
          40,
          60,
          80,
          100,
          120,
          140,
          160
         ],
         "xaxis": "x2",
         "y": [
          160,
          140,
          120,
          100,
          80,
          60,
          40,
          20,
          0,
          -20,
          -40,
          -60,
          -80,
          -100,
          -120,
          -140,
          -160,
          -180
         ],
         "yaxis": "y2",
         "z": [
          [
           0.023,
           0.028,
           0,
           0,
           0.115,
           0.258,
           0.281,
           0.131,
           0.023,
           0.003,
           0,
           0,
           0,
           0,
           0.005,
           0.006,
           0.014,
           0.006
          ],
          [
           0,
           0,
           0,
           0,
           0.093,
           0.465,
           0.513,
           0.245,
           0.06,
           0.011,
           0.001,
           0,
           0.005,
           0.004,
           0,
           0.003,
           0,
           0.019
          ],
          [
           0.034,
           0,
           0,
           0,
           0.174,
           0.513,
           0.48,
           0.238,
           0.039,
           0.001,
           0,
           0,
           0.004,
           0.001,
           0,
           0,
           0.008,
           0.008
          ],
          [
           0,
           0,
           0,
           0.094,
           0.243,
           0.34,
           0.287,
           0.125,
           0.028,
           0.002,
           0,
           0,
           0,
           0.003,
           0.005,
           0.001,
           0,
           0
          ],
          [
           0.009,
           0.03,
           0.03,
           0.048,
           0.197,
           0.221,
           0.109,
           0.027,
           0.001,
           0,
           0,
           0,
           0,
           0.002,
           0,
           0,
           0.001,
           0
          ],
          [
           0,
           0.005,
           0.042,
           0.093,
           0.13,
           0.124,
           0.05,
           0.014,
           0,
           0,
           0.002,
           0,
           0,
           0,
           0,
           0.004,
           0,
           0
          ],
          [
           0,
           0.012,
           0,
           0.008,
           0.027,
           0.035,
           0.021,
           0.004,
           0.001,
           0,
           0,
           0,
           0,
           0,
           0,
           0.004,
           0.003,
           0
          ],
          [
           0,
           0.008,
           0,
           0,
           0,
           0.013,
           0.015,
           0.008,
           0.005,
           0,
           0,
           0,
           0.005,
           0,
           0.002,
           0,
           0.004,
           0.004
          ],
          [
           0.004,
           0.008,
           0,
           0,
           0,
           0,
           0,
           0,
           0.003,
           0,
           0.011,
           0,
           0,
           0,
           0,
           0,
           0.002,
           0.005
          ],
          [
           0,
           0,
           0,
           0,
           0.037,
           0,
           0.041,
           0.032,
           0.006,
           0.003,
           0.002,
           0.005,
           0,
           0.009,
           0,
           0,
           0.002,
           0.004
          ],
          [
           0,
           0,
           0.019,
           0.047,
           0.089,
           0,
           0,
           0,
           0,
           0.003,
           0,
           0.001,
           0.001,
           0,
           0.004,
           0,
           0.002,
           0
          ],
          [
           0,
           0,
           0.01,
           0,
           0.018,
           0,
           0.087,
           0.008,
           0,
           0.003,
           0,
           0.002,
           0.004,
           0,
           0,
           0,
           0,
           0
          ],
          [
           0,
           0.008,
           0,
           0.002,
           0.028,
           0,
           0.039,
           0,
           0.004,
           0.009,
           0.003,
           0.002,
           0,
           0,
           0,
           0,
           0,
           0.002
          ],
          [
           0,
           0,
           0,
           0,
           0,
           0.014,
           0.027,
           0.002,
           0,
           0.007,
           0,
           0.001,
           0,
           0.001,
           0,
           0,
           0.003,
           0
          ],
          [
           0,
           0,
           0.003,
           0.006,
           0.002,
           0.007,
           0,
           0,
           0.003,
           0,
           0,
           0,
           0.006,
           0,
           0,
           0,
           0,
           0.004
          ],
          [
           0,
           0.004,
           0,
           0.002,
           0,
           0.002,
           0.008,
           0.002,
           0.002,
           0,
           0,
           0,
           0,
           0,
           0,
           0,
           0.006,
           0.008
          ],
          [
           0,
           0.003,
           0.01,
           0.001,
           0.018,
           0.016,
           0.015,
           0.009,
           0.002,
           0,
           0.001,
           0,
           0,
           0,
           0.003,
           0,
           0.005,
           0.007
          ],
          [
           0.018,
           0.019,
           0.017,
           0,
           0.004,
           0.101,
           0.091,
           0.036,
           0.015,
           0.004,
           0,
           0.001,
           0.005,
           0,
           0.007,
           0.002,
           0.011,
           0.019
          ]
         ]
        },
        {
         "colorscale": [
          [
           0,
           "rgb(255,255,217)"
          ],
          [
           0.125,
           "rgb(237,248,177)"
          ],
          [
           0.25,
           "rgb(199,233,180)"
          ],
          [
           0.375,
           "rgb(127,205,187)"
          ],
          [
           0.5,
           "rgb(65,182,196)"
          ],
          [
           0.625,
           "rgb(29,145,192)"
          ],
          [
           0.75,
           "rgb(34,94,168)"
          ],
          [
           0.875,
           "rgb(37,52,148)"
          ],
          [
           1,
           "rgb(8,29,88)"
          ]
         ],
         "hoverinfo": "x+y",
         "type": "heatmap",
         "x": [
          -180,
          -160,
          -140,
          -120,
          -100,
          -80,
          -60,
          -40,
          -20,
          0,
          20,
          40,
          60,
          80,
          100,
          120,
          140,
          160
         ],
         "xaxis": "x3",
         "y": [
          160,
          140,
          120,
          100,
          80,
          60,
          40,
          20,
          0,
          -20,
          -40,
          -60,
          -80,
          -100,
          -120,
          -140,
          -160,
          -180
         ],
         "yaxis": "y3",
         "z": [
          [
           0,
           0,
           0,
           0,
           0,
           0,
           0,
           0,
           0,
           0,
           0.001,
           0.002,
           0,
           0.006,
           0.002,
           0,
           0.004,
           0.002
          ],
          [
           0,
           0,
           0,
           0,
           0,
           0,
           0,
           0,
           0,
           0,
           0,
           0,
           0.004,
           0,
           0,
           0,
           0,
           0
          ],
          [
           0.006,
           0.005,
           0,
           0,
           0,
           0,
           0,
           0,
           0,
           0,
           0.001,
           0,
           0,
           0,
           0,
           0.002,
           0,
           0
          ],
          [
           0,
           0,
           0,
           0,
           0,
           0,
           0,
           0,
           0,
           0,
           0,
           0.001,
           0,
           0.001,
           0,
           0.002,
           0,
           0
          ],
          [
           0,
           0,
           0.016,
           0,
           0.07,
           0.028,
           0.01,
           0.003,
           0,
           0,
           0.002,
           0,
           0,
           0.002,
           0,
           0,
           0.002,
           0.002
          ],
          [
           0.001,
           0.013,
           0.02,
           0.036,
           0.054,
           0.048,
           0.017,
           0.005,
           0,
           0.001,
           0,
           0.001,
           0,
           0,
           0,
           0.003,
           0,
           0
          ],
          [
           0.003,
           0.013,
           0.02,
           0.036,
           0.04,
           0.03,
           0.012,
           0.005,
           0.002,
           0,
           0.005,
           0.001,
           0,
           0,
           0,
           0.001,
           0.003,
           0.001
          ],
          [
           0.001,
           0.01,
           0.023,
           0.049,
           0.064,
           0.061,
           0.041,
           0.013,
           0.004,
           0.001,
           0,
           0,
           0.002,
           0,
           0.006,
           0,
           0,
           0.002
          ],
          [
           0,
           0.011,
           0,
           0.068,
           0.11,
           0.191,
           0.161,
           0.058,
           0.01,
           0,
           0.005,
           0.011,
           0,
           0,
           0,
           0,
           0,
           0
          ],
          [
           0,
           0.002,
           0.013,
           0.043,
           0.19,
           0.499,
           0.495,
           0.208,
           0.043,
           0.007,
           0,
           0,
           0,
           0.004,
           0.002,
           0,
           0,
           0.002
          ],
          [
           0.001,
           0,
           0.003,
           0.061,
           0.272,
           0.609,
           0.731,
           0.355,
           0.065,
           0.007,
           0,
           0,
           0,
           0,
           0.004,
           0,
           0.001,
           0
          ],
          [
           0,
           0,
           0.001,
           0.021,
           0.135,
           0.479,
           0.561,
           0.279,
           0.052,
           0.004,
           0.002,
           0,
           0,
           0,
           0,
           0,
           0.001,
           0
          ],
          [
           0,
           0.001,
           0,
           0.003,
           0.039,
           0.112,
           0.18,
           0.083,
           0.021,
           0.005,
           0.003,
           0,
           0,
           0,
           0,
           0.001,
           0,
           0.002
          ],
          [
           0,
           0,
           0,
           0,
           0.008,
           0.019,
           0.044,
           0.01,
           0.004,
           0.002,
           0,
           0.003,
           0.001,
           0.001,
           0.003,
           0.001,
           0,
           0
          ],
          [
           0,
           0.002,
           0.004,
           0.004,
           0.003,
           0,
           0.001,
           0,
           0.003,
           0,
           0.001,
           0.002,
           0.004,
           0.005,
           0.001,
           0,
           0,
           0
          ],
          [
           0,
           0,
           0,
           0,
           0.002,
           0,
           0.001,
           0,
           0.001,
           0,
           0.002,
           0.003,
           0,
           0.001,
           0,
           0,
           0,
           0
          ],
          [
           0,
           0.017,
           0.003,
           0,
           0,
           0,
           0,
           0.003,
           0,
           0,
           0,
           0,
           0,
           0,
           0,
           0,
           0.001,
           0.003
          ],
          [
           0.007,
           0,
           0,
           0,
           0,
           0,
           0,
           0,
           0.001,
           0,
           0,
           0,
           0,
           0.005,
           0,
           0,
           0.002,
           0.007
          ]
         ]
        },
        {
         "colorscale": [
          [
           0,
           "rgb(255,255,217)"
          ],
          [
           0.125,
           "rgb(237,248,177)"
          ],
          [
           0.25,
           "rgb(199,233,180)"
          ],
          [
           0.375,
           "rgb(127,205,187)"
          ],
          [
           0.5,
           "rgb(65,182,196)"
          ],
          [
           0.625,
           "rgb(29,145,192)"
          ],
          [
           0.75,
           "rgb(34,94,168)"
          ],
          [
           0.875,
           "rgb(37,52,148)"
          ],
          [
           1,
           "rgb(8,29,88)"
          ]
         ],
         "hoverinfo": "x+y",
         "type": "heatmap",
         "x": [
          -180,
          -160,
          -140,
          -120,
          -100,
          -80,
          -60,
          -40,
          -20,
          0,
          20,
          40,
          60,
          80,
          100,
          120,
          140,
          160
         ],
         "xaxis": "x4",
         "y": [
          160,
          140,
          120,
          100,
          80,
          60,
          40,
          20,
          0,
          -20,
          -40,
          -60,
          -80,
          -100,
          -120,
          -140,
          -160,
          -180
         ],
         "yaxis": "y4",
         "z": [
          [
           0,
           0,
           0,
           0,
           0,
           0,
           0,
           0,
           0,
           0,
           0,
           0.002,
           0.007,
           0.01,
           0.007,
           0.011,
           0.003,
           0.007
          ],
          [
           0,
           0,
           0,
           0,
           0,
           0,
           0,
           0,
           0,
           0,
           0,
           0,
           0.001,
           0.009,
           0.008,
           0,
           0,
           0
          ],
          [
           0.001,
           0.026,
           0,
           0,
           0,
           0,
           0,
           0,
           0,
           0,
           0.002,
           0,
           0,
           0,
           0.005,
           0.002,
           0,
           0
          ],
          [
           0,
           0,
           0.028,
           0,
           0,
           0,
           0,
           0,
           0,
           0.002,
           0,
           0.002,
           0,
           0,
           0,
           0.001,
           0,
           0
          ],
          [
           0,
           0,
           0.02,
           0.017,
           0.017,
           0,
           0,
           0.005,
           0.001,
           0.001,
           0,
           0,
           0,
           0,
           0.001,
           0.001,
           0.001,
           0
          ],
          [
           0,
           0.001,
           0.005,
           0.031,
           0.026,
           0.018,
           0.004,
           0,
           0,
           0.002,
           0,
           0,
           0,
           0,
           0,
           0,
           0.002,
           0
          ],
          [
           0.001,
           0.01,
           0.035,
           0.083,
           0.103,
           0.065,
           0.022,
           0.007,
           0,
           0,
           0,
           0,
           0,
           0.006,
           0.003,
           0,
           0,
           0.001
          ],
          [
           0,
           0.024,
           0.09,
           0.195,
           0.254,
           0.176,
           0.071,
           0.016,
           0.002,
           0,
           0,
           0.004,
           0.004,
           0,
           0,
           0,
           0.002,
           0.002
          ],
          [
           0.006,
           0.039,
           0.092,
           0.293,
           0.413,
           0.408,
           0.208,
           0.056,
           0.006,
           0,
           0.004,
           0,
           0,
           0,
           0,
           0.003,
           0,
           0
          ],
          [
           0,
           0.014,
           0.062,
           0.232,
           0.379,
           0.56,
           0.376,
           0.144,
           0.025,
           0.003,
           0,
           0.006,
           0,
           0,
           0,
           0,
           0,
           0
          ],
          [
           0.002,
           0.005,
           0.02,
           0.098,
           0.274,
           0.51,
           0.492,
           0.204,
           0.033,
           0.005,
           0.001,
           0,
           0.004,
           0,
           0.003,
           0,
           0,
           0
          ],
          [
           0.002,
           0,
           0,
           0.023,
           0.073,
           0.325,
           0.358,
           0.169,
           0.03,
           0.004,
           0.003,
           0.001,
           0,
           0,
           0,
           0.001,
           0.003,
           0.002
          ],
          [
           0.003,
           0.003,
           0,
           0.011,
           0.025,
           0.079,
           0.106,
           0.048,
           0.004,
           0,
           0,
           0,
           0,
           0,
           0,
           0.005,
           0.001,
           0.003
          ],
          [
           0.001,
           0,
           0,
           0,
           0.015,
           0.022,
           0.023,
           0.009,
           0.004,
           0,
           0,
           0,
           0.001,
           0.003,
           0.001,
           0.003,
           0.002,
           0
          ],
          [
           0,
           0.001,
           0.001,
           0.002,
           0.006,
           0.001,
           0,
           0,
           0.002,
           0,
           0.002,
           0,
           0.003,
           0.002,
           0,
           0.001,
           0,
           0
          ],
          [
           0,
           0,
           0,
           0,
           0.003,
           0.001,
           0,
           0,
           0.003,
           0,
           0,
           0.001,
           0.002,
           0.011,
           0.001,
           0.003,
           0,
           0
          ],
          [
           0.002,
           0.001,
           0,
           0,
           0,
           0,
           0,
           0,
           0.001,
           0.001,
           0,
           0,
           0.002,
           0.009,
           0,
           0.002,
           0,
           0
          ],
          [
           0.001,
           0,
           0,
           0,
           0,
           0,
           0,
           0,
           0,
           0.002,
           0,
           0,
           0,
           0.015,
           0.002,
           0.001,
           0,
           0
          ]
         ]
        },
        {
         "colorscale": [
          [
           0,
           "rgb(255,255,217)"
          ],
          [
           0.125,
           "rgb(237,248,177)"
          ],
          [
           0.25,
           "rgb(199,233,180)"
          ],
          [
           0.375,
           "rgb(127,205,187)"
          ],
          [
           0.5,
           "rgb(65,182,196)"
          ],
          [
           0.625,
           "rgb(29,145,192)"
          ],
          [
           0.75,
           "rgb(34,94,168)"
          ],
          [
           0.875,
           "rgb(37,52,148)"
          ],
          [
           1,
           "rgb(8,29,88)"
          ]
         ],
         "hoverinfo": "x+y",
         "type": "heatmap",
         "x": [
          -180,
          -160,
          -140,
          -120,
          -100,
          -80,
          -60,
          -40,
          -20,
          0,
          20,
          40,
          60,
          80,
          100,
          120,
          140,
          160
         ],
         "xaxis": "x5",
         "y": [
          160,
          140,
          120,
          100,
          80,
          60,
          40,
          20,
          0,
          -20,
          -40,
          -60,
          -80,
          -100,
          -120,
          -140,
          -160,
          -180
         ],
         "yaxis": "y5",
         "z": [
          [
           0.057,
           0.027,
           0.178,
           0.127,
           0.176,
           0.126,
           0.055,
           0,
           0.007,
           0,
           0.007,
           0,
           0,
           0.006,
           0.002,
           0,
           0.051,
           0.068
          ],
          [
           0.058,
           0.058,
           0.014,
           0.042,
           0.019,
           0,
           0.029,
           0,
           0,
           0.004,
           0,
           0,
           0,
           0.007,
           0,
           0,
           0.007,
           0.051
          ],
          [
           0.004,
           0,
           0,
           0.15,
           0,
           0,
           0,
           0,
           0.001,
           0,
           0,
           0,
           0,
           0,
           0,
           0.004,
           0,
           0
          ],
          [
           0,
           0.005,
           0.052,
           0.045,
           0,
           0,
           0,
           0.006,
           0,
           0,
           0,
           0,
           0.004,
           0,
           0,
           0,
           0.006,
           0
          ],
          [
           0,
           0,
           0.043,
           0.008,
           0,
           0,
           0,
           0.01,
           0,
           0,
           0.016,
           0.007,
           0.024,
           0.024,
           0.009,
           0,
           0.009,
           0
          ],
          [
           0,
           0,
           0.021,
           0.004,
           0,
           0,
           0,
           0,
           0.001,
           0.021,
           0.077,
           0.149,
           0.155,
           0.058,
           0.007,
           0.005,
           0,
           0.006
          ],
          [
           0.006,
           0.018,
           0.052,
           0.047,
           0.013,
           0,
           0.001,
           0,
           0.007,
           0.037,
           0.206,
           0.438,
           0.373,
           0.133,
           0.008,
           0,
           0.001,
           0.01
          ],
          [
           0.033,
           0.065,
           0.154,
           0.201,
           0.175,
           0.068,
           0,
           0,
           0,
           0.036,
           0.183,
           0.414,
           0.451,
           0.17,
           0.001,
           0.002,
           0,
           0.01
          ],
          [
           0.012,
           0.062,
           0.258,
           0.377,
           0.299,
           0.041,
           0,
           0,
           0,
           0.021,
           0.102,
           0.202,
           0.156,
           0.071,
           0.005,
           0.011,
           0,
           0
          ],
          [
           0.004,
           0.016,
           0.226,
           0.349,
           0.175,
           0.095,
           0,
           0,
           0.012,
           0,
           0.013,
           0,
           0,
           0,
           0.004,
           0.002,
           0.008,
           0
          ],
          [
           0.004,
           0.016,
           0.064,
           0.138,
           0.014,
           0,
           0,
           0,
           0.001,
           0.002,
           0,
           0.006,
           0,
           0.013,
           0,
           0.014,
           0,
           0
          ],
          [
           0.001,
           0.015,
           0.03,
           0.02,
           0.011,
           0,
           0.019,
           0,
           0,
           0,
           0,
           0,
           0.004,
           0.009,
           0.001,
           0.008,
           0.005,
           0.001
          ],
          [
           0.012,
           0.007,
           0.01,
           0.051,
           0.025,
           0,
           0,
           0,
           0,
           0.012,
           0.002,
           0.001,
           0,
           0,
           0,
           0.006,
           0,
           0.006
          ],
          [
           0.016,
           0.009,
           0.008,
           0.004,
           0.021,
           0.031,
           0,
           0,
           0,
           0.003,
           0,
           0,
           0,
           0,
           0,
           0,
           0.006,
           0.01
          ],
          [
           0.001,
           0.006,
           0,
           0.001,
           0,
           0,
           0.012,
           0.007,
           0.002,
           0,
           0,
           0,
           0,
           0,
           0,
           0.002,
           0.007,
           0.007
          ],
          [
           0,
           0,
           0,
           0,
           0,
           0,
           0.01,
           0.003,
           0,
           0,
           0,
           0,
           0,
           0,
           0,
           0.006,
           0,
           0.007
          ],
          [
           0.017,
           0.023,
           0.018,
           0.008,
           0.001,
           0,
           0,
           0,
           0,
           0,
           0,
           0.001,
           0.004,
           0.012,
           0,
           0.015,
           0.017,
           0.019
          ],
          [
           0.103,
           0.126,
           0.053,
           0.01,
           0.027,
           0,
           0,
           0,
           0,
           0,
           0.005,
           0.008,
           0.014,
           0,
           0.001,
           0.019,
           0.049,
           0.02
          ]
         ]
        }
       ],
       "layout": {
        "annotations": [
         {
          "font": {
           "size": 16
          },
          "showarrow": false,
          "text": "53V",
          "x": 0.08399999999999999,
          "xanchor": "center",
          "xref": "paper",
          "y": 1,
          "yanchor": "bottom",
          "yref": "paper"
         },
         {
          "font": {
           "size": 16
          },
          "showarrow": false,
          "text": "54P",
          "x": 0.292,
          "xanchor": "center",
          "xref": "paper",
          "y": 1,
          "yanchor": "bottom",
          "yref": "paper"
         },
         {
          "font": {
           "size": 16
          },
          "showarrow": false,
          "text": "55A",
          "x": 0.5,
          "xanchor": "center",
          "xref": "paper",
          "y": 1,
          "yanchor": "bottom",
          "yref": "paper"
         },
         {
          "font": {
           "size": 16
          },
          "showarrow": false,
          "text": "56A",
          "x": 0.708,
          "xanchor": "center",
          "xref": "paper",
          "y": 1,
          "yanchor": "bottom",
          "yref": "paper"
         },
         {
          "font": {
           "size": 16
          },
          "showarrow": false,
          "text": "57Y",
          "x": 0.9159999999999999,
          "xanchor": "center",
          "xref": "paper",
          "y": 1,
          "yanchor": "bottom",
          "yref": "paper"
         },
         {
          "font": {
           "size": 16
          },
          "showarrow": false,
          "text": "$$\\phi$$",
          "x": 0.5,
          "xanchor": "center",
          "xref": "paper",
          "y": 0,
          "yanchor": "top",
          "yref": "paper",
          "yshift": -30
         },
         {
          "font": {
           "size": 16
          },
          "showarrow": false,
          "text": "$$\\psi$$",
          "textangle": -90,
          "x": 0,
          "xanchor": "right",
          "xref": "paper",
          "xshift": -40,
          "y": 0.5,
          "yanchor": "middle",
          "yref": "paper"
         }
        ],
        "height": 400,
        "template": {
         "data": {
          "bar": [
           {
            "error_x": {
             "color": "#2a3f5f"
            },
            "error_y": {
             "color": "#2a3f5f"
            },
            "marker": {
             "line": {
              "color": "#E5ECF6",
              "width": 0.5
             },
             "pattern": {
              "fillmode": "overlay",
              "size": 10,
              "solidity": 0.2
             }
            },
            "type": "bar"
           }
          ],
          "barpolar": [
           {
            "marker": {
             "line": {
              "color": "#E5ECF6",
              "width": 0.5
             },
             "pattern": {
              "fillmode": "overlay",
              "size": 10,
              "solidity": 0.2
             }
            },
            "type": "barpolar"
           }
          ],
          "carpet": [
           {
            "aaxis": {
             "endlinecolor": "#2a3f5f",
             "gridcolor": "white",
             "linecolor": "white",
             "minorgridcolor": "white",
             "startlinecolor": "#2a3f5f"
            },
            "baxis": {
             "endlinecolor": "#2a3f5f",
             "gridcolor": "white",
             "linecolor": "white",
             "minorgridcolor": "white",
             "startlinecolor": "#2a3f5f"
            },
            "type": "carpet"
           }
          ],
          "choropleth": [
           {
            "colorbar": {
             "outlinewidth": 0,
             "ticks": ""
            },
            "type": "choropleth"
           }
          ],
          "contour": [
           {
            "colorbar": {
             "outlinewidth": 0,
             "ticks": ""
            },
            "colorscale": [
             [
              0,
              "#0d0887"
             ],
             [
              0.1111111111111111,
              "#46039f"
             ],
             [
              0.2222222222222222,
              "#7201a8"
             ],
             [
              0.3333333333333333,
              "#9c179e"
             ],
             [
              0.4444444444444444,
              "#bd3786"
             ],
             [
              0.5555555555555556,
              "#d8576b"
             ],
             [
              0.6666666666666666,
              "#ed7953"
             ],
             [
              0.7777777777777778,
              "#fb9f3a"
             ],
             [
              0.8888888888888888,
              "#fdca26"
             ],
             [
              1,
              "#f0f921"
             ]
            ],
            "type": "contour"
           }
          ],
          "contourcarpet": [
           {
            "colorbar": {
             "outlinewidth": 0,
             "ticks": ""
            },
            "type": "contourcarpet"
           }
          ],
          "heatmap": [
           {
            "colorbar": {
             "outlinewidth": 0,
             "ticks": ""
            },
            "colorscale": [
             [
              0,
              "#0d0887"
             ],
             [
              0.1111111111111111,
              "#46039f"
             ],
             [
              0.2222222222222222,
              "#7201a8"
             ],
             [
              0.3333333333333333,
              "#9c179e"
             ],
             [
              0.4444444444444444,
              "#bd3786"
             ],
             [
              0.5555555555555556,
              "#d8576b"
             ],
             [
              0.6666666666666666,
              "#ed7953"
             ],
             [
              0.7777777777777778,
              "#fb9f3a"
             ],
             [
              0.8888888888888888,
              "#fdca26"
             ],
             [
              1,
              "#f0f921"
             ]
            ],
            "type": "heatmap"
           }
          ],
          "heatmapgl": [
           {
            "colorbar": {
             "outlinewidth": 0,
             "ticks": ""
            },
            "colorscale": [
             [
              0,
              "#0d0887"
             ],
             [
              0.1111111111111111,
              "#46039f"
             ],
             [
              0.2222222222222222,
              "#7201a8"
             ],
             [
              0.3333333333333333,
              "#9c179e"
             ],
             [
              0.4444444444444444,
              "#bd3786"
             ],
             [
              0.5555555555555556,
              "#d8576b"
             ],
             [
              0.6666666666666666,
              "#ed7953"
             ],
             [
              0.7777777777777778,
              "#fb9f3a"
             ],
             [
              0.8888888888888888,
              "#fdca26"
             ],
             [
              1,
              "#f0f921"
             ]
            ],
            "type": "heatmapgl"
           }
          ],
          "histogram": [
           {
            "marker": {
             "pattern": {
              "fillmode": "overlay",
              "size": 10,
              "solidity": 0.2
             }
            },
            "type": "histogram"
           }
          ],
          "histogram2d": [
           {
            "colorbar": {
             "outlinewidth": 0,
             "ticks": ""
            },
            "colorscale": [
             [
              0,
              "#0d0887"
             ],
             [
              0.1111111111111111,
              "#46039f"
             ],
             [
              0.2222222222222222,
              "#7201a8"
             ],
             [
              0.3333333333333333,
              "#9c179e"
             ],
             [
              0.4444444444444444,
              "#bd3786"
             ],
             [
              0.5555555555555556,
              "#d8576b"
             ],
             [
              0.6666666666666666,
              "#ed7953"
             ],
             [
              0.7777777777777778,
              "#fb9f3a"
             ],
             [
              0.8888888888888888,
              "#fdca26"
             ],
             [
              1,
              "#f0f921"
             ]
            ],
            "type": "histogram2d"
           }
          ],
          "histogram2dcontour": [
           {
            "colorbar": {
             "outlinewidth": 0,
             "ticks": ""
            },
            "colorscale": [
             [
              0,
              "#0d0887"
             ],
             [
              0.1111111111111111,
              "#46039f"
             ],
             [
              0.2222222222222222,
              "#7201a8"
             ],
             [
              0.3333333333333333,
              "#9c179e"
             ],
             [
              0.4444444444444444,
              "#bd3786"
             ],
             [
              0.5555555555555556,
              "#d8576b"
             ],
             [
              0.6666666666666666,
              "#ed7953"
             ],
             [
              0.7777777777777778,
              "#fb9f3a"
             ],
             [
              0.8888888888888888,
              "#fdca26"
             ],
             [
              1,
              "#f0f921"
             ]
            ],
            "type": "histogram2dcontour"
           }
          ],
          "mesh3d": [
           {
            "colorbar": {
             "outlinewidth": 0,
             "ticks": ""
            },
            "type": "mesh3d"
           }
          ],
          "parcoords": [
           {
            "line": {
             "colorbar": {
              "outlinewidth": 0,
              "ticks": ""
             }
            },
            "type": "parcoords"
           }
          ],
          "pie": [
           {
            "automargin": true,
            "type": "pie"
           }
          ],
          "scatter": [
           {
            "fillpattern": {
             "fillmode": "overlay",
             "size": 10,
             "solidity": 0.2
            },
            "type": "scatter"
           }
          ],
          "scatter3d": [
           {
            "line": {
             "colorbar": {
              "outlinewidth": 0,
              "ticks": ""
             }
            },
            "marker": {
             "colorbar": {
              "outlinewidth": 0,
              "ticks": ""
             }
            },
            "type": "scatter3d"
           }
          ],
          "scattercarpet": [
           {
            "marker": {
             "colorbar": {
              "outlinewidth": 0,
              "ticks": ""
             }
            },
            "type": "scattercarpet"
           }
          ],
          "scattergeo": [
           {
            "marker": {
             "colorbar": {
              "outlinewidth": 0,
              "ticks": ""
             }
            },
            "type": "scattergeo"
           }
          ],
          "scattergl": [
           {
            "marker": {
             "colorbar": {
              "outlinewidth": 0,
              "ticks": ""
             }
            },
            "type": "scattergl"
           }
          ],
          "scattermapbox": [
           {
            "marker": {
             "colorbar": {
              "outlinewidth": 0,
              "ticks": ""
             }
            },
            "type": "scattermapbox"
           }
          ],
          "scatterpolar": [
           {
            "marker": {
             "colorbar": {
              "outlinewidth": 0,
              "ticks": ""
             }
            },
            "type": "scatterpolar"
           }
          ],
          "scatterpolargl": [
           {
            "marker": {
             "colorbar": {
              "outlinewidth": 0,
              "ticks": ""
             }
            },
            "type": "scatterpolargl"
           }
          ],
          "scatterternary": [
           {
            "marker": {
             "colorbar": {
              "outlinewidth": 0,
              "ticks": ""
             }
            },
            "type": "scatterternary"
           }
          ],
          "surface": [
           {
            "colorbar": {
             "outlinewidth": 0,
             "ticks": ""
            },
            "colorscale": [
             [
              0,
              "#0d0887"
             ],
             [
              0.1111111111111111,
              "#46039f"
             ],
             [
              0.2222222222222222,
              "#7201a8"
             ],
             [
              0.3333333333333333,
              "#9c179e"
             ],
             [
              0.4444444444444444,
              "#bd3786"
             ],
             [
              0.5555555555555556,
              "#d8576b"
             ],
             [
              0.6666666666666666,
              "#ed7953"
             ],
             [
              0.7777777777777778,
              "#fb9f3a"
             ],
             [
              0.8888888888888888,
              "#fdca26"
             ],
             [
              1,
              "#f0f921"
             ]
            ],
            "type": "surface"
           }
          ],
          "table": [
           {
            "cells": {
             "fill": {
              "color": "#EBF0F8"
             },
             "line": {
              "color": "white"
             }
            },
            "header": {
             "fill": {
              "color": "#C8D4E3"
             },
             "line": {
              "color": "white"
             }
            },
            "type": "table"
           }
          ]
         },
         "layout": {
          "annotationdefaults": {
           "arrowcolor": "#2a3f5f",
           "arrowhead": 0,
           "arrowwidth": 1
          },
          "autotypenumbers": "strict",
          "coloraxis": {
           "colorbar": {
            "outlinewidth": 0,
            "ticks": ""
           }
          },
          "colorscale": {
           "diverging": [
            [
             0,
             "#8e0152"
            ],
            [
             0.1,
             "#c51b7d"
            ],
            [
             0.2,
             "#de77ae"
            ],
            [
             0.3,
             "#f1b6da"
            ],
            [
             0.4,
             "#fde0ef"
            ],
            [
             0.5,
             "#f7f7f7"
            ],
            [
             0.6,
             "#e6f5d0"
            ],
            [
             0.7,
             "#b8e186"
            ],
            [
             0.8,
             "#7fbc41"
            ],
            [
             0.9,
             "#4d9221"
            ],
            [
             1,
             "#276419"
            ]
           ],
           "sequential": [
            [
             0,
             "#0d0887"
            ],
            [
             0.1111111111111111,
             "#46039f"
            ],
            [
             0.2222222222222222,
             "#7201a8"
            ],
            [
             0.3333333333333333,
             "#9c179e"
            ],
            [
             0.4444444444444444,
             "#bd3786"
            ],
            [
             0.5555555555555556,
             "#d8576b"
            ],
            [
             0.6666666666666666,
             "#ed7953"
            ],
            [
             0.7777777777777778,
             "#fb9f3a"
            ],
            [
             0.8888888888888888,
             "#fdca26"
            ],
            [
             1,
             "#f0f921"
            ]
           ],
           "sequentialminus": [
            [
             0,
             "#0d0887"
            ],
            [
             0.1111111111111111,
             "#46039f"
            ],
            [
             0.2222222222222222,
             "#7201a8"
            ],
            [
             0.3333333333333333,
             "#9c179e"
            ],
            [
             0.4444444444444444,
             "#bd3786"
            ],
            [
             0.5555555555555556,
             "#d8576b"
            ],
            [
             0.6666666666666666,
             "#ed7953"
            ],
            [
             0.7777777777777778,
             "#fb9f3a"
            ],
            [
             0.8888888888888888,
             "#fdca26"
            ],
            [
             1,
             "#f0f921"
            ]
           ]
          },
          "colorway": [
           "#636efa",
           "#EF553B",
           "#00cc96",
           "#ab63fa",
           "#FFA15A",
           "#19d3f3",
           "#FF6692",
           "#B6E880",
           "#FF97FF",
           "#FECB52"
          ],
          "font": {
           "color": "#2a3f5f"
          },
          "geo": {
           "bgcolor": "white",
           "lakecolor": "white",
           "landcolor": "#E5ECF6",
           "showlakes": true,
           "showland": true,
           "subunitcolor": "white"
          },
          "hoverlabel": {
           "align": "left"
          },
          "hovermode": "closest",
          "mapbox": {
           "style": "light"
          },
          "paper_bgcolor": "white",
          "plot_bgcolor": "#E5ECF6",
          "polar": {
           "angularaxis": {
            "gridcolor": "white",
            "linecolor": "white",
            "ticks": ""
           },
           "bgcolor": "#E5ECF6",
           "radialaxis": {
            "gridcolor": "white",
            "linecolor": "white",
            "ticks": ""
           }
          },
          "scene": {
           "xaxis": {
            "backgroundcolor": "#E5ECF6",
            "gridcolor": "white",
            "gridwidth": 2,
            "linecolor": "white",
            "showbackground": true,
            "ticks": "",
            "zerolinecolor": "white"
           },
           "yaxis": {
            "backgroundcolor": "#E5ECF6",
            "gridcolor": "white",
            "gridwidth": 2,
            "linecolor": "white",
            "showbackground": true,
            "ticks": "",
            "zerolinecolor": "white"
           },
           "zaxis": {
            "backgroundcolor": "#E5ECF6",
            "gridcolor": "white",
            "gridwidth": 2,
            "linecolor": "white",
            "showbackground": true,
            "ticks": "",
            "zerolinecolor": "white"
           }
          },
          "shapedefaults": {
           "line": {
            "color": "#2a3f5f"
           }
          },
          "ternary": {
           "aaxis": {
            "gridcolor": "white",
            "linecolor": "white",
            "ticks": ""
           },
           "baxis": {
            "gridcolor": "white",
            "linecolor": "white",
            "ticks": ""
           },
           "bgcolor": "#E5ECF6",
           "caxis": {
            "gridcolor": "white",
            "linecolor": "white",
            "ticks": ""
           }
          },
          "title": {
           "x": 0.05
          },
          "xaxis": {
           "automargin": true,
           "gridcolor": "white",
           "linecolor": "white",
           "ticks": "",
           "title": {
            "standoff": 15
           },
           "zerolinecolor": "white",
           "zerolinewidth": 2
          },
          "yaxis": {
           "automargin": true,
           "gridcolor": "white",
           "linecolor": "white",
           "ticks": "",
           "title": {
            "standoff": 15
           },
           "zerolinecolor": "white",
           "zerolinewidth": 2
          }
         }
        },
        "width": 1500,
        "xaxis": {
         "anchor": "y",
         "autorange": true,
         "domain": [
          0,
          0.16799999999999998
         ],
         "range": [
          -190,
          170
         ],
         "type": "linear"
        },
        "xaxis2": {
         "anchor": "y2",
         "autorange": true,
         "domain": [
          0.208,
          0.376
         ],
         "range": [
          -190,
          170
         ],
         "type": "linear"
        },
        "xaxis3": {
         "anchor": "y3",
         "autorange": true,
         "domain": [
          0.416,
          0.584
         ],
         "range": [
          -190,
          170
         ],
         "type": "linear"
        },
        "xaxis4": {
         "anchor": "y4",
         "autorange": true,
         "domain": [
          0.624,
          0.792
         ],
         "range": [
          -190,
          170
         ],
         "type": "linear"
        },
        "xaxis5": {
         "anchor": "y5",
         "autorange": true,
         "domain": [
          0.832,
          1
         ],
         "range": [
          -190,
          170
         ],
         "type": "linear"
        },
        "yaxis": {
         "anchor": "x",
         "autorange": true,
         "domain": [
          0,
          1
         ],
         "range": [
          -190,
          170
         ],
         "type": "linear"
        },
        "yaxis2": {
         "anchor": "x2",
         "autorange": true,
         "domain": [
          0,
          1
         ],
         "matches": "y",
         "range": [
          -190,
          170
         ],
         "showticklabels": false,
         "type": "linear"
        },
        "yaxis3": {
         "anchor": "x3",
         "autorange": true,
         "domain": [
          0,
          1
         ],
         "matches": "y",
         "range": [
          -190,
          170
         ],
         "showticklabels": false,
         "type": "linear"
        },
        "yaxis4": {
         "anchor": "x4",
         "autorange": true,
         "domain": [
          0,
          1
         ],
         "matches": "y",
         "range": [
          -190,
          170
         ],
         "showticklabels": false,
         "type": "linear"
        },
        "yaxis5": {
         "anchor": "x5",
         "autorange": true,
         "domain": [
          0,
          1
         ],
         "matches": "y",
         "range": [
          -190,
          170
         ],
         "showticklabels": false,
         "type": "linear"
        }
       }
      },
      "image/png": "[encoded data removed]",
      "text/html": [
       "<div>                            <div id=\"d15a44c6-a67a-4d3e-87cf-43bc5c5d6814\" class=\"plotly-graph-div\" style=\"height:400px; width:1500px;\"></div>            <script type=\"text/javascript\">                require([\"plotly\"], function(Plotly) {                    window.PLOTLYENV=window.PLOTLYENV || {};                                    if (document.getElementById(\"d15a44c6-a67a-4d3e-87cf-43bc5c5d6814\")) {                    Plotly.newPlot(                        \"d15a44c6-a67a-4d3e-87cf-43bc5c5d6814\",                        [{\"x\":[-180.0,-160.0,-140.0,-120.0,-100.0,-80.0,-60.0,-40.0,-20.0,0.0,20.0,40.0,60.0,80.0,100.0,120.0,140.0,160.0],\"y\":[160.0,140.0,120.0,100.0,80.0,60.0,40.0,20.0,0.0,-20.0,-40.0,-60.0,-80.0,-100.0,-120.0,-140.0,-160.0,-180.0],\"z\":[[0.121,0.267,0.389,0.365,0.211,0.047,0.0,0.0,0.0,0.002,0.0,0.0,0.0,0.0,0.0,0.005,0.005,0.019],[0.113,0.322,0.513,0.479,0.276,0.085,0.0,0.0,0.0,0.0,0.0,0.0,0.001,0.0,0.003,0.001,0.0,0.027],[0.061,0.196,0.378,0.411,0.266,0.039,0.0,0.0,0.0,0.0,0.0,0.0,0.002,0.001,0.0,0.001,0.0,0.008],[0.029,0.093,0.193,0.213,0.128,0.016,0.0,0.0,0.0,0.0,0.002,0.002,0.0,0.002,0.0,0.0,0.001,0.003],[0.011,0.049,0.091,0.098,0.057,0.0,0.0,0.0,0.0,0.0,0.0,0.002,0.0,0.001,0.001,0.0,0.001,0.001],[0.008,0.029,0.066,0.053,0.024,0.011,0.001,0.0,0.0,0.0,0.003,0.0,0.0,0.001,0.001,0.002,0.0,0.003],[0.001,0.013,0.016,0.014,0.0,0.0,0.0,0.0,0.001,0.0,0.002,0.0,0.0,0.001,0.0,0.0,0.001,0.001],[0.002,0.003,0.011,0.002,0.0,0.0,0.001,0.0,0.0,0.001,0.004,0.0,0.0,0.0,0.0,0.0,0.0,0.0],[0.002,0.007,0.014,0.01,0.0,0.0,0.0,0.0,0.0,0.0,0.0,0.0,0.0,0.0,0.0,0.0,0.0,0.001],[0.0,0.0,0.014,0.018,0.0,0.0,0.0,0.001,0.001,0.001,0.0,0.0,0.0,0.0,0.0,0.0,0.0,0.0],[0.001,0.0,0.0,0.019,0.0,0.016,0.044,0.0,0.0,0.0,0.0,0.0,0.002,0.0,0.0,0.0,0.001,0.0],[0.0,0.0,0.003,0.01,0.031,0.033,0.025,0.0,0.0,0.0,0.0,0.0,0.0,0.0,0.0,0.0,0.0,0.0],[0.0,0.0,0.003,0.0,0.0,0.001,0.0,0.0,0.001,0.001,0.0,0.001,0.0,0.0,0.001,0.0,0.0,0.0],[0.001,0.0,0.003,0.0,0.003,0.0,0.006,0.0,0.0,0.0,0.0,0.001,0.0,0.0,0.001,0.0,0.001,0.001],[0.0,0.001,0.002,0.003,0.0,0.004,0.001,0.0,0.0,0.0,0.0,0.0,0.001,0.002,0.0,0.0,0.0,0.0],[0.002,0.004,0.006,0.002,0.003,0.0,0.0,0.0,0.0,0.0,0.002,0.001,0.0,0.0,0.0,0.0,0.0,0.001],[0.011,0.034,0.042,0.031,0.015,0.006,0.0,0.0,0.0,0.0,0.0,0.002,0.0,0.0,0.002,0.001,0.002,0.005],[0.055,0.12,0.171,0.132,0.07,0.016,0.001,0.0,0.0,0.0,0.001,0.0,0.001,0.002,0.004,0.0,0.005,0.012]],\"type\":\"heatmap\",\"xaxis\":\"x\",\"yaxis\":\"y\",\"colorscale\":[[0.0,\"rgb(255,255,217)\"],[0.125,\"rgb(237,248,177)\"],[0.25,\"rgb(199,233,180)\"],[0.375,\"rgb(127,205,187)\"],[0.5,\"rgb(65,182,196)\"],[0.625,\"rgb(29,145,192)\"],[0.75,\"rgb(34,94,168)\"],[0.875,\"rgb(37,52,148)\"],[1.0,\"rgb(8,29,88)\"]],\"hoverinfo\":\"x+y\"},{\"x\":[-180.0,-160.0,-140.0,-120.0,-100.0,-80.0,-60.0,-40.0,-20.0,0.0,20.0,40.0,60.0,80.0,100.0,120.0,140.0,160.0],\"y\":[160.0,140.0,120.0,100.0,80.0,60.0,40.0,20.0,0.0,-20.0,-40.0,-60.0,-80.0,-100.0,-120.0,-140.0,-160.0,-180.0],\"z\":[[0.023,0.028,0.0,0.0,0.115,0.258,0.281,0.131,0.023,0.003,0.0,0.0,0.0,0.0,0.005,0.006,0.014,0.006],[0.0,0.0,0.0,0.0,0.093,0.465,0.513,0.245,0.06,0.011,0.001,0.0,0.005,0.004,0.0,0.003,0.0,0.019],[0.034,0.0,0.0,0.0,0.174,0.513,0.48,0.238,0.039,0.001,0.0,0.0,0.004,0.001,0.0,0.0,0.008,0.008],[0.0,0.0,0.0,0.094,0.243,0.34,0.287,0.125,0.028,0.002,0.0,0.0,0.0,0.003,0.005,0.001,0.0,0.0],[0.009,0.03,0.03,0.048,0.197,0.221,0.109,0.027,0.001,0.0,0.0,0.0,0.0,0.002,0.0,0.0,0.001,0.0],[0.0,0.005,0.042,0.093,0.13,0.124,0.05,0.014,0.0,0.0,0.002,0.0,0.0,0.0,0.0,0.004,0.0,0.0],[0.0,0.012,0.0,0.008,0.027,0.035,0.021,0.004,0.001,0.0,0.0,0.0,0.0,0.0,0.0,0.004,0.003,0.0],[0.0,0.008,0.0,0.0,0.0,0.013,0.015,0.008,0.005,0.0,0.0,0.0,0.005,0.0,0.002,0.0,0.004,0.004],[0.004,0.008,0.0,0.0,0.0,0.0,0.0,0.0,0.003,0.0,0.011,0.0,0.0,0.0,0.0,0.0,0.002,0.005],[0.0,0.0,0.0,0.0,0.037,0.0,0.041,0.032,0.006,0.003,0.002,0.005,0.0,0.009,0.0,0.0,0.002,0.004],[0.0,0.0,0.019,0.047,0.089,0.0,0.0,0.0,0.0,0.003,0.0,0.001,0.001,0.0,0.004,0.0,0.002,0.0],[0.0,0.0,0.01,0.0,0.018,0.0,0.087,0.008,0.0,0.003,0.0,0.002,0.004,0.0,0.0,0.0,0.0,0.0],[0.0,0.008,0.0,0.002,0.028,0.0,0.039,0.0,0.004,0.009,0.003,0.002,0.0,0.0,0.0,0.0,0.0,0.002],[0.0,0.0,0.0,0.0,0.0,0.014,0.027,0.002,0.0,0.007,0.0,0.001,0.0,0.001,0.0,0.0,0.003,0.0],[0.0,0.0,0.003,0.006,0.002,0.007,0.0,0.0,0.003,0.0,0.0,0.0,0.006,0.0,0.0,0.0,0.0,0.004],[0.0,0.004,0.0,0.002,0.0,0.002,0.008,0.002,0.002,0.0,0.0,0.0,0.0,0.0,0.0,0.0,0.006,0.008],[0.0,0.003,0.01,0.001,0.018,0.016,0.015,0.009,0.002,0.0,0.001,0.0,0.0,0.0,0.003,0.0,0.005,0.007],[0.018,0.019,0.017,0.0,0.004,0.101,0.091,0.036,0.015,0.004,0.0,0.001,0.005,0.0,0.007,0.002,0.011,0.019]],\"type\":\"heatmap\",\"xaxis\":\"x2\",\"yaxis\":\"y2\",\"colorscale\":[[0.0,\"rgb(255,255,217)\"],[0.125,\"rgb(237,248,177)\"],[0.25,\"rgb(199,233,180)\"],[0.375,\"rgb(127,205,187)\"],[0.5,\"rgb(65,182,196)\"],[0.625,\"rgb(29,145,192)\"],[0.75,\"rgb(34,94,168)\"],[0.875,\"rgb(37,52,148)\"],[1.0,\"rgb(8,29,88)\"]],\"hoverinfo\":\"x+y\"},{\"x\":[-180.0,-160.0,-140.0,-120.0,-100.0,-80.0,-60.0,-40.0,-20.0,0.0,20.0,40.0,60.0,80.0,100.0,120.0,140.0,160.0],\"y\":[160.0,140.0,120.0,100.0,80.0,60.0,40.0,20.0,0.0,-20.0,-40.0,-60.0,-80.0,-100.0,-120.0,-140.0,-160.0,-180.0],\"z\":[[0.0,0.0,0.0,0.0,0.0,0.0,0.0,0.0,0.0,0.0,0.001,0.002,0.0,0.006,0.002,0.0,0.004,0.002],[0.0,0.0,0.0,0.0,0.0,0.0,0.0,0.0,0.0,0.0,0.0,0.0,0.004,0.0,0.0,0.0,0.0,0.0],[0.006,0.005,0.0,0.0,0.0,0.0,0.0,0.0,0.0,0.0,0.001,0.0,0.0,0.0,0.0,0.002,0.0,0.0],[0.0,0.0,0.0,0.0,0.0,0.0,0.0,0.0,0.0,0.0,0.0,0.001,0.0,0.001,0.0,0.002,0.0,0.0],[0.0,0.0,0.016,0.0,0.07,0.028,0.01,0.003,0.0,0.0,0.002,0.0,0.0,0.002,0.0,0.0,0.002,0.002],[0.001,0.013,0.02,0.036,0.054,0.048,0.017,0.005,0.0,0.001,0.0,0.001,0.0,0.0,0.0,0.003,0.0,0.0],[0.003,0.013,0.02,0.036,0.04,0.03,0.012,0.005,0.002,0.0,0.005,0.001,0.0,0.0,0.0,0.001,0.003,0.001],[0.001,0.01,0.023,0.049,0.064,0.061,0.041,0.013,0.004,0.001,0.0,0.0,0.002,0.0,0.006,0.0,0.0,0.002],[0.0,0.011,0.0,0.068,0.11,0.191,0.161,0.058,0.01,0.0,0.005,0.011,0.0,0.0,0.0,0.0,0.0,0.0],[0.0,0.002,0.013,0.043,0.19,0.499,0.495,0.208,0.043,0.007,0.0,0.0,0.0,0.004,0.002,0.0,0.0,0.002],[0.001,0.0,0.003,0.061,0.272,0.609,0.731,0.355,0.065,0.007,0.0,0.0,0.0,0.0,0.004,0.0,0.001,0.0],[0.0,0.0,0.001,0.021,0.135,0.479,0.561,0.279,0.052,0.004,0.002,0.0,0.0,0.0,0.0,0.0,0.001,0.0],[0.0,0.001,0.0,0.003,0.039,0.112,0.18,0.083,0.021,0.005,0.003,0.0,0.0,0.0,0.0,0.001,0.0,0.002],[0.0,0.0,0.0,0.0,0.008,0.019,0.044,0.01,0.004,0.002,0.0,0.003,0.001,0.001,0.003,0.001,0.0,0.0],[0.0,0.002,0.004,0.004,0.003,0.0,0.001,0.0,0.003,0.0,0.001,0.002,0.004,0.005,0.001,0.0,0.0,0.0],[0.0,0.0,0.0,0.0,0.002,0.0,0.001,0.0,0.001,0.0,0.002,0.003,0.0,0.001,0.0,0.0,0.0,0.0],[0.0,0.017,0.003,0.0,0.0,0.0,0.0,0.003,0.0,0.0,0.0,0.0,0.0,0.0,0.0,0.0,0.001,0.003],[0.007,0.0,0.0,0.0,0.0,0.0,0.0,0.0,0.001,0.0,0.0,0.0,0.0,0.005,0.0,0.0,0.002,0.007]],\"type\":\"heatmap\",\"xaxis\":\"x3\",\"yaxis\":\"y3\",\"colorscale\":[[0.0,\"rgb(255,255,217)\"],[0.125,\"rgb(237,248,177)\"],[0.25,\"rgb(199,233,180)\"],[0.375,\"rgb(127,205,187)\"],[0.5,\"rgb(65,182,196)\"],[0.625,\"rgb(29,145,192)\"],[0.75,\"rgb(34,94,168)\"],[0.875,\"rgb(37,52,148)\"],[1.0,\"rgb(8,29,88)\"]],\"hoverinfo\":\"x+y\"},{\"x\":[-180.0,-160.0,-140.0,-120.0,-100.0,-80.0,-60.0,-40.0,-20.0,0.0,20.0,40.0,60.0,80.0,100.0,120.0,140.0,160.0],\"y\":[160.0,140.0,120.0,100.0,80.0,60.0,40.0,20.0,0.0,-20.0,-40.0,-60.0,-80.0,-100.0,-120.0,-140.0,-160.0,-180.0],\"z\":[[0.0,0.0,0.0,0.0,0.0,0.0,0.0,0.0,0.0,0.0,0.0,0.002,0.007,0.01,0.007,0.011,0.003,0.007],[0.0,0.0,0.0,0.0,0.0,0.0,0.0,0.0,0.0,0.0,0.0,0.0,0.001,0.009,0.008,0.0,0.0,0.0],[0.001,0.026,0.0,0.0,0.0,0.0,0.0,0.0,0.0,0.0,0.002,0.0,0.0,0.0,0.005,0.002,0.0,0.0],[0.0,0.0,0.028,0.0,0.0,0.0,0.0,0.0,0.0,0.002,0.0,0.002,0.0,0.0,0.0,0.001,0.0,0.0],[0.0,0.0,0.02,0.017,0.017,0.0,0.0,0.005,0.001,0.001,0.0,0.0,0.0,0.0,0.001,0.001,0.001,0.0],[0.0,0.001,0.005,0.031,0.026,0.018,0.004,0.0,0.0,0.002,0.0,0.0,0.0,0.0,0.0,0.0,0.002,0.0],[0.001,0.01,0.035,0.083,0.103,0.065,0.022,0.007,0.0,0.0,0.0,0.0,0.0,0.006,0.003,0.0,0.0,0.001],[0.0,0.024,0.09,0.195,0.254,0.176,0.071,0.016,0.002,0.0,0.0,0.004,0.004,0.0,0.0,0.0,0.002,0.002],[0.006,0.039,0.092,0.293,0.413,0.408,0.208,0.056,0.006,0.0,0.004,0.0,0.0,0.0,0.0,0.003,0.0,0.0],[0.0,0.014,0.062,0.232,0.379,0.56,0.376,0.144,0.025,0.003,0.0,0.006,0.0,0.0,0.0,0.0,0.0,0.0],[0.002,0.005,0.02,0.098,0.274,0.51,0.492,0.204,0.033,0.005,0.001,0.0,0.004,0.0,0.003,0.0,0.0,0.0],[0.002,0.0,0.0,0.023,0.073,0.325,0.358,0.169,0.03,0.004,0.003,0.001,0.0,0.0,0.0,0.001,0.003,0.002],[0.003,0.003,0.0,0.011,0.025,0.079,0.106,0.048,0.004,0.0,0.0,0.0,0.0,0.0,0.0,0.005,0.001,0.003],[0.001,0.0,0.0,0.0,0.015,0.022,0.023,0.009,0.004,0.0,0.0,0.0,0.001,0.003,0.001,0.003,0.002,0.0],[0.0,0.001,0.001,0.002,0.006,0.001,0.0,0.0,0.002,0.0,0.002,0.0,0.003,0.002,0.0,0.001,0.0,0.0],[0.0,0.0,0.0,0.0,0.003,0.001,0.0,0.0,0.003,0.0,0.0,0.001,0.002,0.011,0.001,0.003,0.0,0.0],[0.002,0.001,0.0,0.0,0.0,0.0,0.0,0.0,0.001,0.001,0.0,0.0,0.002,0.009,0.0,0.002,0.0,0.0],[0.001,0.0,0.0,0.0,0.0,0.0,0.0,0.0,0.0,0.002,0.0,0.0,0.0,0.015,0.002,0.001,0.0,0.0]],\"type\":\"heatmap\",\"xaxis\":\"x4\",\"yaxis\":\"y4\",\"colorscale\":[[0.0,\"rgb(255,255,217)\"],[0.125,\"rgb(237,248,177)\"],[0.25,\"rgb(199,233,180)\"],[0.375,\"rgb(127,205,187)\"],[0.5,\"rgb(65,182,196)\"],[0.625,\"rgb(29,145,192)\"],[0.75,\"rgb(34,94,168)\"],[0.875,\"rgb(37,52,148)\"],[1.0,\"rgb(8,29,88)\"]],\"hoverinfo\":\"x+y\"},{\"x\":[-180.0,-160.0,-140.0,-120.0,-100.0,-80.0,-60.0,-40.0,-20.0,0.0,20.0,40.0,60.0,80.0,100.0,120.0,140.0,160.0],\"y\":[160.0,140.0,120.0,100.0,80.0,60.0,40.0,20.0,0.0,-20.0,-40.0,-60.0,-80.0,-100.0,-120.0,-140.0,-160.0,-180.0],\"z\":[[0.057,0.027,0.178,0.127,0.176,0.126,0.055,0.0,0.007,0.0,0.007,0.0,0.0,0.006,0.002,0.0,0.051,0.068],[0.058,0.058,0.014,0.042,0.019,0.0,0.029,0.0,0.0,0.004,0.0,0.0,0.0,0.007,0.0,0.0,0.007,0.051],[0.004,0.0,0.0,0.15,0.0,0.0,0.0,0.0,0.001,0.0,0.0,0.0,0.0,0.0,0.0,0.004,0.0,0.0],[0.0,0.005,0.052,0.045,0.0,0.0,0.0,0.006,0.0,0.0,0.0,0.0,0.004,0.0,0.0,0.0,0.006,0.0],[0.0,0.0,0.043,0.008,0.0,0.0,0.0,0.01,0.0,0.0,0.016,0.007,0.024,0.024,0.009,0.0,0.009,0.0],[0.0,0.0,0.021,0.004,0.0,0.0,0.0,0.0,0.001,0.021,0.077,0.149,0.155,0.058,0.007,0.005,0.0,0.006],[0.006,0.018,0.052,0.047,0.013,0.0,0.001,0.0,0.007,0.037,0.206,0.438,0.373,0.133,0.008,0.0,0.001,0.01],[0.033,0.065,0.154,0.201,0.175,0.068,0.0,0.0,0.0,0.036,0.183,0.414,0.451,0.17,0.001,0.002,0.0,0.01],[0.012,0.062,0.258,0.377,0.299,0.041,0.0,0.0,0.0,0.021,0.102,0.202,0.156,0.071,0.005,0.011,0.0,0.0],[0.004,0.016,0.226,0.349,0.175,0.095,0.0,0.0,0.012,0.0,0.013,0.0,0.0,0.0,0.004,0.002,0.008,0.0],[0.004,0.016,0.064,0.138,0.014,0.0,0.0,0.0,0.001,0.002,0.0,0.006,0.0,0.013,0.0,0.014,0.0,0.0],[0.001,0.015,0.03,0.02,0.011,0.0,0.019,0.0,0.0,0.0,0.0,0.0,0.004,0.009,0.001,0.008,0.005,0.001],[0.012,0.007,0.01,0.051,0.025,0.0,0.0,0.0,0.0,0.012,0.002,0.001,0.0,0.0,0.0,0.006,0.0,0.006],[0.016,0.009,0.008,0.004,0.021,0.031,0.0,0.0,0.0,0.003,0.0,0.0,0.0,0.0,0.0,0.0,0.006,0.01],[0.001,0.006,0.0,0.001,0.0,0.0,0.012,0.007,0.002,0.0,0.0,0.0,0.0,0.0,0.0,0.002,0.007,0.007],[0.0,0.0,0.0,0.0,0.0,0.0,0.01,0.003,0.0,0.0,0.0,0.0,0.0,0.0,0.0,0.006,0.0,0.007],[0.017,0.023,0.018,0.008,0.001,0.0,0.0,0.0,0.0,0.0,0.0,0.001,0.004,0.012,0.0,0.015,0.017,0.019],[0.103,0.126,0.053,0.01,0.027,0.0,0.0,0.0,0.0,0.0,0.005,0.008,0.014,0.0,0.001,0.019,0.049,0.02]],\"type\":\"heatmap\",\"xaxis\":\"x5\",\"yaxis\":\"y5\",\"colorscale\":[[0.0,\"rgb(255,255,217)\"],[0.125,\"rgb(237,248,177)\"],[0.25,\"rgb(199,233,180)\"],[0.375,\"rgb(127,205,187)\"],[0.5,\"rgb(65,182,196)\"],[0.625,\"rgb(29,145,192)\"],[0.75,\"rgb(34,94,168)\"],[0.875,\"rgb(37,52,148)\"],[1.0,\"rgb(8,29,88)\"]],\"hoverinfo\":\"x+y\"}],                        {\"template\":{\"data\":{\"histogram2dcontour\":[{\"type\":\"histogram2dcontour\",\"colorbar\":{\"outlinewidth\":0,\"ticks\":\"\"},\"colorscale\":[[0.0,\"#0d0887\"],[0.1111111111111111,\"#46039f\"],[0.2222222222222222,\"#7201a8\"],[0.3333333333333333,\"#9c179e\"],[0.4444444444444444,\"#bd3786\"],[0.5555555555555556,\"#d8576b\"],[0.6666666666666666,\"#ed7953\"],[0.7777777777777778,\"#fb9f3a\"],[0.8888888888888888,\"#fdca26\"],[1.0,\"#f0f921\"]]}],\"choropleth\":[{\"type\":\"choropleth\",\"colorbar\":{\"outlinewidth\":0,\"ticks\":\"\"}}],\"histogram2d\":[{\"type\":\"histogram2d\",\"colorbar\":{\"outlinewidth\":0,\"ticks\":\"\"},\"colorscale\":[[0.0,\"#0d0887\"],[0.1111111111111111,\"#46039f\"],[0.2222222222222222,\"#7201a8\"],[0.3333333333333333,\"#9c179e\"],[0.4444444444444444,\"#bd3786\"],[0.5555555555555556,\"#d8576b\"],[0.6666666666666666,\"#ed7953\"],[0.7777777777777778,\"#fb9f3a\"],[0.8888888888888888,\"#fdca26\"],[1.0,\"#f0f921\"]]}],\"heatmap\":[{\"type\":\"heatmap\",\"colorbar\":{\"outlinewidth\":0,\"ticks\":\"\"},\"colorscale\":[[0.0,\"#0d0887\"],[0.1111111111111111,\"#46039f\"],[0.2222222222222222,\"#7201a8\"],[0.3333333333333333,\"#9c179e\"],[0.4444444444444444,\"#bd3786\"],[0.5555555555555556,\"#d8576b\"],[0.6666666666666666,\"#ed7953\"],[0.7777777777777778,\"#fb9f3a\"],[0.8888888888888888,\"#fdca26\"],[1.0,\"#f0f921\"]]}],\"heatmapgl\":[{\"type\":\"heatmapgl\",\"colorbar\":{\"outlinewidth\":0,\"ticks\":\"\"},\"colorscale\":[[0.0,\"#0d0887\"],[0.1111111111111111,\"#46039f\"],[0.2222222222222222,\"#7201a8\"],[0.3333333333333333,\"#9c179e\"],[0.4444444444444444,\"#bd3786\"],[0.5555555555555556,\"#d8576b\"],[0.6666666666666666,\"#ed7953\"],[0.7777777777777778,\"#fb9f3a\"],[0.8888888888888888,\"#fdca26\"],[1.0,\"#f0f921\"]]}],\"contourcarpet\":[{\"type\":\"contourcarpet\",\"colorbar\":{\"outlinewidth\":0,\"ticks\":\"\"}}],\"contour\":[{\"type\":\"contour\",\"colorbar\":{\"outlinewidth\":0,\"ticks\":\"\"},\"colorscale\":[[0.0,\"#0d0887\"],[0.1111111111111111,\"#46039f\"],[0.2222222222222222,\"#7201a8\"],[0.3333333333333333,\"#9c179e\"],[0.4444444444444444,\"#bd3786\"],[0.5555555555555556,\"#d8576b\"],[0.6666666666666666,\"#ed7953\"],[0.7777777777777778,\"#fb9f3a\"],[0.8888888888888888,\"#fdca26\"],[1.0,\"#f0f921\"]]}],\"surface\":[{\"type\":\"surface\",\"colorbar\":{\"outlinewidth\":0,\"ticks\":\"\"},\"colorscale\":[[0.0,\"#0d0887\"],[0.1111111111111111,\"#46039f\"],[0.2222222222222222,\"#7201a8\"],[0.3333333333333333,\"#9c179e\"],[0.4444444444444444,\"#bd3786\"],[0.5555555555555556,\"#d8576b\"],[0.6666666666666666,\"#ed7953\"],[0.7777777777777778,\"#fb9f3a\"],[0.8888888888888888,\"#fdca26\"],[1.0,\"#f0f921\"]]}],\"mesh3d\":[{\"type\":\"mesh3d\",\"colorbar\":{\"outlinewidth\":0,\"ticks\":\"\"}}],\"scatter\":[{\"fillpattern\":{\"fillmode\":\"overlay\",\"size\":10,\"solidity\":0.2},\"type\":\"scatter\"}],\"parcoords\":[{\"type\":\"parcoords\",\"line\":{\"colorbar\":{\"outlinewidth\":0,\"ticks\":\"\"}}}],\"scatterpolargl\":[{\"type\":\"scatterpolargl\",\"marker\":{\"colorbar\":{\"outlinewidth\":0,\"ticks\":\"\"}}}],\"bar\":[{\"error_x\":{\"color\":\"#2a3f5f\"},\"error_y\":{\"color\":\"#2a3f5f\"},\"marker\":{\"line\":{\"color\":\"#E5ECF6\",\"width\":0.5},\"pattern\":{\"fillmode\":\"overlay\",\"size\":10,\"solidity\":0.2}},\"type\":\"bar\"}],\"scattergeo\":[{\"type\":\"scattergeo\",\"marker\":{\"colorbar\":{\"outlinewidth\":0,\"ticks\":\"\"}}}],\"scatterpolar\":[{\"type\":\"scatterpolar\",\"marker\":{\"colorbar\":{\"outlinewidth\":0,\"ticks\":\"\"}}}],\"histogram\":[{\"marker\":{\"pattern\":{\"fillmode\":\"overlay\",\"size\":10,\"solidity\":0.2}},\"type\":\"histogram\"}],\"scattergl\":[{\"type\":\"scattergl\",\"marker\":{\"colorbar\":{\"outlinewidth\":0,\"ticks\":\"\"}}}],\"scatter3d\":[{\"type\":\"scatter3d\",\"line\":{\"colorbar\":{\"outlinewidth\":0,\"ticks\":\"\"}},\"marker\":{\"colorbar\":{\"outlinewidth\":0,\"ticks\":\"\"}}}],\"scattermapbox\":[{\"type\":\"scattermapbox\",\"marker\":{\"colorbar\":{\"outlinewidth\":0,\"ticks\":\"\"}}}],\"scatterternary\":[{\"type\":\"scatterternary\",\"marker\":{\"colorbar\":{\"outlinewidth\":0,\"ticks\":\"\"}}}],\"scattercarpet\":[{\"type\":\"scattercarpet\",\"marker\":{\"colorbar\":{\"outlinewidth\":0,\"ticks\":\"\"}}}],\"carpet\":[{\"aaxis\":{\"endlinecolor\":\"#2a3f5f\",\"gridcolor\":\"white\",\"linecolor\":\"white\",\"minorgridcolor\":\"white\",\"startlinecolor\":\"#2a3f5f\"},\"baxis\":{\"endlinecolor\":\"#2a3f5f\",\"gridcolor\":\"white\",\"linecolor\":\"white\",\"minorgridcolor\":\"white\",\"startlinecolor\":\"#2a3f5f\"},\"type\":\"carpet\"}],\"table\":[{\"cells\":{\"fill\":{\"color\":\"#EBF0F8\"},\"line\":{\"color\":\"white\"}},\"header\":{\"fill\":{\"color\":\"#C8D4E3\"},\"line\":{\"color\":\"white\"}},\"type\":\"table\"}],\"barpolar\":[{\"marker\":{\"line\":{\"color\":\"#E5ECF6\",\"width\":0.5},\"pattern\":{\"fillmode\":\"overlay\",\"size\":10,\"solidity\":0.2}},\"type\":\"barpolar\"}],\"pie\":[{\"automargin\":true,\"type\":\"pie\"}]},\"layout\":{\"autotypenumbers\":\"strict\",\"colorway\":[\"#636efa\",\"#EF553B\",\"#00cc96\",\"#ab63fa\",\"#FFA15A\",\"#19d3f3\",\"#FF6692\",\"#B6E880\",\"#FF97FF\",\"#FECB52\"],\"font\":{\"color\":\"#2a3f5f\"},\"hovermode\":\"closest\",\"hoverlabel\":{\"align\":\"left\"},\"paper_bgcolor\":\"white\",\"plot_bgcolor\":\"#E5ECF6\",\"polar\":{\"bgcolor\":\"#E5ECF6\",\"angularaxis\":{\"gridcolor\":\"white\",\"linecolor\":\"white\",\"ticks\":\"\"},\"radialaxis\":{\"gridcolor\":\"white\",\"linecolor\":\"white\",\"ticks\":\"\"}},\"ternary\":{\"bgcolor\":\"#E5ECF6\",\"aaxis\":{\"gridcolor\":\"white\",\"linecolor\":\"white\",\"ticks\":\"\"},\"baxis\":{\"gridcolor\":\"white\",\"linecolor\":\"white\",\"ticks\":\"\"},\"caxis\":{\"gridcolor\":\"white\",\"linecolor\":\"white\",\"ticks\":\"\"}},\"coloraxis\":{\"colorbar\":{\"outlinewidth\":0,\"ticks\":\"\"}},\"colorscale\":{\"sequential\":[[0.0,\"#0d0887\"],[0.1111111111111111,\"#46039f\"],[0.2222222222222222,\"#7201a8\"],[0.3333333333333333,\"#9c179e\"],[0.4444444444444444,\"#bd3786\"],[0.5555555555555556,\"#d8576b\"],[0.6666666666666666,\"#ed7953\"],[0.7777777777777778,\"#fb9f3a\"],[0.8888888888888888,\"#fdca26\"],[1.0,\"#f0f921\"]],\"sequentialminus\":[[0.0,\"#0d0887\"],[0.1111111111111111,\"#46039f\"],[0.2222222222222222,\"#7201a8\"],[0.3333333333333333,\"#9c179e\"],[0.4444444444444444,\"#bd3786\"],[0.5555555555555556,\"#d8576b\"],[0.6666666666666666,\"#ed7953\"],[0.7777777777777778,\"#fb9f3a\"],[0.8888888888888888,\"#fdca26\"],[1.0,\"#f0f921\"]],\"diverging\":[[0,\"#8e0152\"],[0.1,\"#c51b7d\"],[0.2,\"#de77ae\"],[0.3,\"#f1b6da\"],[0.4,\"#fde0ef\"],[0.5,\"#f7f7f7\"],[0.6,\"#e6f5d0\"],[0.7,\"#b8e186\"],[0.8,\"#7fbc41\"],[0.9,\"#4d9221\"],[1,\"#276419\"]]},\"xaxis\":{\"gridcolor\":\"white\",\"linecolor\":\"white\",\"ticks\":\"\",\"title\":{\"standoff\":15},\"zerolinecolor\":\"white\",\"automargin\":true,\"zerolinewidth\":2},\"yaxis\":{\"gridcolor\":\"white\",\"linecolor\":\"white\",\"ticks\":\"\",\"title\":{\"standoff\":15},\"zerolinecolor\":\"white\",\"automargin\":true,\"zerolinewidth\":2},\"scene\":{\"xaxis\":{\"backgroundcolor\":\"#E5ECF6\",\"gridcolor\":\"white\",\"linecolor\":\"white\",\"showbackground\":true,\"ticks\":\"\",\"zerolinecolor\":\"white\",\"gridwidth\":2},\"yaxis\":{\"backgroundcolor\":\"#E5ECF6\",\"gridcolor\":\"white\",\"linecolor\":\"white\",\"showbackground\":true,\"ticks\":\"\",\"zerolinecolor\":\"white\",\"gridwidth\":2},\"zaxis\":{\"backgroundcolor\":\"#E5ECF6\",\"gridcolor\":\"white\",\"linecolor\":\"white\",\"showbackground\":true,\"ticks\":\"\",\"zerolinecolor\":\"white\",\"gridwidth\":2}},\"shapedefaults\":{\"line\":{\"color\":\"#2a3f5f\"}},\"annotationdefaults\":{\"arrowcolor\":\"#2a3f5f\",\"arrowhead\":0,\"arrowwidth\":1},\"geo\":{\"bgcolor\":\"white\",\"landcolor\":\"#E5ECF6\",\"subunitcolor\":\"white\",\"showland\":true,\"showlakes\":true,\"lakecolor\":\"white\"},\"title\":{\"x\":0.05},\"mapbox\":{\"style\":\"light\"}}},\"xaxis\":{\"anchor\":\"y\",\"domain\":[0.0,0.16799999999999998]},\"yaxis\":{\"anchor\":\"x\",\"domain\":[0.0,1.0]},\"xaxis2\":{\"anchor\":\"y2\",\"domain\":[0.208,0.376]},\"yaxis2\":{\"anchor\":\"x2\",\"domain\":[0.0,1.0],\"matches\":\"y\",\"showticklabels\":false},\"xaxis3\":{\"anchor\":\"y3\",\"domain\":[0.416,0.584]},\"yaxis3\":{\"anchor\":\"x3\",\"domain\":[0.0,1.0],\"matches\":\"y\",\"showticklabels\":false},\"xaxis4\":{\"anchor\":\"y4\",\"domain\":[0.624,0.792]},\"yaxis4\":{\"anchor\":\"x4\",\"domain\":[0.0,1.0],\"matches\":\"y\",\"showticklabels\":false},\"xaxis5\":{\"anchor\":\"y5\",\"domain\":[0.832,1.0]},\"yaxis5\":{\"anchor\":\"x5\",\"domain\":[0.0,1.0],\"matches\":\"y\",\"showticklabels\":false},\"annotations\":[{\"font\":{\"size\":16},\"showarrow\":false,\"text\":\"53V\",\"x\":0.08399999999999999,\"xanchor\":\"center\",\"xref\":\"paper\",\"y\":1.0,\"yanchor\":\"bottom\",\"yref\":\"paper\"},{\"font\":{\"size\":16},\"showarrow\":false,\"text\":\"54P\",\"x\":0.292,\"xanchor\":\"center\",\"xref\":\"paper\",\"y\":1.0,\"yanchor\":\"bottom\",\"yref\":\"paper\"},{\"font\":{\"size\":16},\"showarrow\":false,\"text\":\"55A\",\"x\":0.5,\"xanchor\":\"center\",\"xref\":\"paper\",\"y\":1.0,\"yanchor\":\"bottom\",\"yref\":\"paper\"},{\"font\":{\"size\":16},\"showarrow\":false,\"text\":\"56A\",\"x\":0.708,\"xanchor\":\"center\",\"xref\":\"paper\",\"y\":1.0,\"yanchor\":\"bottom\",\"yref\":\"paper\"},{\"font\":{\"size\":16},\"showarrow\":false,\"text\":\"57Y\",\"x\":0.9159999999999999,\"xanchor\":\"center\",\"xref\":\"paper\",\"y\":1.0,\"yanchor\":\"bottom\",\"yref\":\"paper\"},{\"font\":{\"size\":16},\"showarrow\":false,\"text\":\"$$\\\\phi$$\",\"x\":0.5,\"xanchor\":\"center\",\"xref\":\"paper\",\"y\":0,\"yanchor\":\"top\",\"yref\":\"paper\",\"yshift\":-30},{\"font\":{\"size\":16},\"showarrow\":false,\"text\":\"$$\\\\psi$$\",\"textangle\":-90,\"x\":0,\"xanchor\":\"right\",\"xref\":\"paper\",\"xshift\":-40,\"y\":0.5,\"yanchor\":\"middle\",\"yref\":\"paper\"}],\"width\":1500,\"height\":400},                        {\"responsive\": true}                    ).then(function(){\n",
       "                            \n",
       "var gd = document.getElementById('d15a44c6-a67a-4d3e-87cf-43bc5c5d6814');\n",
       "var x = new MutationObserver(function (mutations, observer) {{\n",
       "        var display = window.getComputedStyle(gd).display;\n",
       "        if (!display || display === 'none') {{\n",
       "            console.log([gd, 'removed!']);\n",
       "            Plotly.purge(gd);\n",
       "            observer.disconnect();\n",
       "        }}\n",
       "}});\n",
       "\n",
       "// Listen for the removal of the full notebook cells\n",
       "var notebookContainer = gd.closest('#notebook-container');\n",
       "if (notebookContainer) {{\n",
       "    x.observe(notebookContainer, {childList: true});\n",
       "}}\n",
       "\n",
       "// Listen for the clearing of the current output cell\n",
       "var outputEl = gd.closest('.output');\n",
       "if (outputEl) {{\n",
       "    x.observe(outputEl, {childList: true});\n",
       "}}\n",
       "\n",
       "                        })                };                });            </script>        </div>"
      ]
     },
     "metadata": {},
     "output_type": "display_data"
    }
   ],
   "source": [
    "#@markdown Ramachandran map for 5 residues\n",
    "#@markdown Middle residue number:\n",
    "res_num=55  #@param {type:\"integer\"} \n",
    "\n",
    "subplot_titles = []\n",
    "\n",
    "for rn in range(res_num-2, res_num+3):\n",
    "    if str(rn) in res_w_predictions:\n",
    "        subplot_titles.append(residue(rn))\n",
    "    else:\n",
    "        continue\n",
    "        \n",
    "ncols = len(subplot_titles)\n",
    "nrows = 1\n",
    "\n",
    "fig = make_subplots(rows=nrows, cols=ncols, shared_xaxes=True, shared_yaxes=True, start_cell='top-left', \n",
    "                              subplot_titles=subplot_titles, column_widths=None, row_heights=None, specs=None, insets=None, x_title=\"$$\\phi$$\", y_title=\"$$\\psi$$\", figure=None)\n",
    "\n",
    "fig.update_layout(width=ncols*300, height=nrows*300+100)\n",
    "\n",
    "for i, res in enumerate(subplot_titles):\n",
    "    #print(i, res)\n",
    "    rama = predictions[res]\n",
    "    rama = np.rot90(rama.reshape(18,18), 1)\n",
    "    fig.add_heatmap(z=rama,\n",
    "            x=np.linspace(-180, 160, 18), #(-180, None, None, None, None, -80,  None, None, None, 0, None, None, None, 80, None, None, None, 160),\n",
    "            y=np.flip(np.linspace(-180, 160, 18)), # THIS WONT WORK\n",
    "            row = 1, col = i+1,\n",
    "                   )\n",
    "fig.update_traces(colorscale=\"YlGnBu\", hoverinfo=\"x+y\")\n",
    "fig.show()"
   ]
  }
 ],
 "metadata": {
  "kernelspec": {
   "display_name": "Python 3 (ipykernel)",
   "language": "python",
   "name": "python3"
  },
  "language_info": {
   "codemirror_mode": {
    "name": "ipython",
    "version": 3
   },
   "file_extension": ".py",
   "mimetype": "text/x-python",
   "name": "python",
   "nbconvert_exporter": "python",
   "pygments_lexer": "ipython3",
   "version": "3.10.4"
  }
 },
 "nbformat": 4,
 "nbformat_minor": 4
}
