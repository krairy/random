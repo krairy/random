{
 "cells": [
  {
   "cell_type": "code",
   "execution_count": 1,
   "id": "24b40785",
   "metadata": {},
   "outputs": [],
   "source": [
    "import numpy as np\n",
    "import matplotlib.pyplot as plt\n",
    "from matplotlib.colors import ListedColormap, LinearSegmentedColormap"
   ]
  },
  {
   "cell_type": "code",
   "execution_count": 78,
   "id": "825a42b6",
   "metadata": {},
   "outputs": [
    {
     "data": {
      "text/plain": [
       "{1: 0, 2: 0, 3: 0, 4: 0}"
      ]
     },
     "execution_count": 78,
     "metadata": {},
     "output_type": "execute_result"
    }
   ],
   "source": [
    "\n",
    "used"
   ]
  },
  {
   "cell_type": "code",
   "execution_count": 88,
   "id": "afef61ba",
   "metadata": {
    "scrolled": true
   },
   "outputs": [
    {
     "name": "stdout",
     "output_type": "stream",
     "text": [
      "{1: 20, 2: 18, 3: 14, 4: 18}\n",
      "{1: 19, 2: 16, 3: 17, 4: 18}\n",
      "{1: 19, 2: 20, 3: 15, 4: 16}\n",
      "{1: 18, 2: 20, 3: 16, 4: 16}\n",
      "{1: 18, 2: 18, 3: 16, 4: 18}\n"
     ]
    },
    {
     "data": {
      "image/png": "[encoded data removed]",
      "text/plain": [
       "<Figure size 432x288 with 1 Axes>"
      ]
     },
     "metadata": {},
     "output_type": "display_data"
    },
    {
     "data": {
      "image/png": "[encoded data removed]",
      "text/plain": [
       "<Figure size 432x288 with 1 Axes>"
      ]
     },
     "metadata": {},
     "output_type": "display_data"
    },
    {
     "data": {
      "image/png": "[encoded data removed]",
      "text/plain": [
       "<Figure size 432x288 with 1 Axes>"
      ]
     },
     "metadata": {},
     "output_type": "display_data"
    },
    {
     "data": {
      "image/png": "[encoded data removed]",
      "text/plain": [
       "<Figure size 432x288 with 1 Axes>"
      ]
     },
     "metadata": {},
     "output_type": "display_data"
    },
    {
     "data": {
      "image/png": "[encoded data removed]",
      "text/plain": [
       "<Figure size 432x288 with 1 Axes>"
      ]
     },
     "metadata": {},
     "output_type": "display_data"
    }
   ],
   "source": [
    "shape = (8,10)\n",
    "#choice = [1,2,3,4]\n",
    "cmap = ListedColormap(['#CCCCFE', \"#FFD9FF\", \"#CDFFCC\", \"#CCEDFF\"])\n",
    "\n",
    "def tile_the_tiles(shape, cmap):\n",
    "    choice = [1,2,3,4]\n",
    "    tiles = np.zeros(shape=(8,10))\n",
    "    weights = []\n",
    "    used = dict()\n",
    "    for c in choice:\n",
    "        used[c] = 0\n",
    "    \n",
    "    i=0\n",
    "    j=0\n",
    "    for i in range(tiles.shape[0]-1):\n",
    "        for j in range(tiles.shape[1]):\n",
    "            a = [t for t in choice if t != tiles[i-1,j] and t != tiles[i,j-1]]\n",
    "            chosen = np.random.choice(a)\n",
    "            tiles[i,j] = chosen\n",
    "            used[chosen]+=1\n",
    "            if used[chosen]==20:\n",
    "                choice.remove(chosen)            \n",
    "    tiles[-1] = tiles[0]\n",
    "    \n",
    "    fig=plt.figure()\n",
    "    ax=fig.add_subplot(111)\n",
    "    ax.spines[:].set_visible(False)\n",
    "    ax.set_xticks([])\n",
    "    ax.set_yticks([])\n",
    "    ax.imshow(tiles, cmap=cmap, alpha=0.999)\n",
    "    ax.set_xticks(np.arange(shape[1]+1)-.5, minor=True)\n",
    "    ax.set_yticks(np.arange(shape[0]+1)-.5, minor=True)\n",
    "    ax.grid(which=\"minor\", color=\"w\", linestyle='-', linewidth=3)\n",
    "    print(used)\n",
    "\n",
    "i=0\n",
    "while i<5:\n",
    "    tile_the_tiles(shape, cmap)\n",
    "    i+=1"
   ]
  },
  {
   "cell_type": "code",
   "execution_count": 85,
   "id": "d69615ca",
   "metadata": {},
   "outputs": [],
   "source": [
    "?choice"
   ]
  }
 ],
 "metadata": {
  "kernelspec": {
   "display_name": "Python 3 (ipykernel)",
   "language": "python",
   "name": "python3"
  },
  "language_info": {
   "codemirror_mode": {
    "name": "ipython",
    "version": 3
   },
   "file_extension": ".py",
   "mimetype": "text/x-python",
   "name": "python",
   "nbconvert_exporter": "python",
   "pygments_lexer": "ipython3",
   "version": "3.8.12"
  }
 },
 "nbformat": 4,
 "nbformat_minor": 5
}
