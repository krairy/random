{
 "cells": [
  {
   "cell_type": "code",
   "execution_count": 1,
   "id": "24b40785",
   "metadata": {},
   "outputs": [],
   "source": [
    "import numpy as np\n",
    "import matplotlib.pyplot as plt\n",
    "from matplotlib.colors import ListedColormap, LinearSegmentedColormap"
   ]
  },
  {
   "cell_type": "code",
   "execution_count": 4,
   "id": "afef61ba",
   "metadata": {
    "scrolled": false
   },
   "outputs": [
    {
     "name": "stdout",
     "output_type": "stream",
     "text": [
      "{'purple': 20, 'pink': 17, 'green': 16, 'blue': 17}\n",
      "{'purple': 11, 'pink': 19, 'green': 20, 'blue': 20}\n",
      "{'purple': 18, 'pink': 17, 'green': 16, 'blue': 19}\n",
      "{'purple': 17, 'pink': 20, 'green': 13, 'blue': 20}\n",
      "{'purple': 19, 'pink': 16, 'green': 18, 'blue': 17}\n"
     ]
    },
    {
     "data": {
      "image/png": "[encoded data removed]",
      "text/plain": [
       "<Figure size 432x288 with 1 Axes>"
      ]
     },
     "metadata": {},
     "output_type": "display_data"
    },
    {
     "data": {
      "image/png": "[encoded data removed]",
      "text/plain": [
       "<Figure size 432x288 with 1 Axes>"
      ]
     },
     "metadata": {},
     "output_type": "display_data"
    },
    {
     "data": {
      "image/png": "[encoded data removed]",
      "text/plain": [
       "<Figure size 432x288 with 1 Axes>"
      ]
     },
     "metadata": {},
     "output_type": "display_data"
    },
    {
     "data": {
      "image/png": "[encoded data removed]",
      "text/plain": [
       "<Figure size 432x288 with 1 Axes>"
      ]
     },
     "metadata": {},
     "output_type": "display_data"
    },
    {
     "data": {
      "image/png": "[encoded data removed]",
      "text/plain": [
       "<Figure size 432x288 with 1 Axes>"
      ]
     },
     "metadata": {},
     "output_type": "display_data"
    }
   ],
   "source": [
    "shape = (8,10)\n",
    "#choice = [1,2,3,4]\n",
    "cmap = ListedColormap(['#CCCCFE', \"#FFD9FF\", \"#CDFFCC\", \"#CCEDFF\"])\n",
    "\n",
    "def tile_the_tiles(shape, cmap):\n",
    "    choice = [1,2,3,4]\n",
    "    tiles = np.zeros(shape=(8,10))\n",
    "    weights = []\n",
    "    used = dict()\n",
    "    for c in choice:\n",
    "        used[c] = 0\n",
    "    \n",
    "    i=0\n",
    "    j=0\n",
    "    for i in range(tiles.shape[0]-1):\n",
    "        for j in range(tiles.shape[1]):\n",
    "            a = [t for t in choice if t != tiles[i-1,j] and t != tiles[i,j-1]]\n",
    "            chosen = np.random.choice(a)\n",
    "            tiles[i,j] = chosen\n",
    "            used[chosen]+=1\n",
    "            if used[chosen]==20:\n",
    "                choice.remove(chosen)            \n",
    "    tiles[-1] = tiles[0]\n",
    "    \n",
    "    fig=plt.figure()\n",
    "    ax=fig.add_subplot(111)\n",
    "    ax.spines[:].set_visible(False)\n",
    "    ax.set_xticks([])\n",
    "    ax.set_yticks([])\n",
    "    ax.imshow(tiles, cmap=cmap, alpha=0.999)\n",
    "    ax.set_xticks(np.arange(shape[1]+1)-.5, minor=True)\n",
    "    ax.set_yticks(np.arange(shape[0]+1)-.5, minor=True)\n",
    "    ax.grid(which=\"minor\", color=\"w\", linestyle='-', linewidth=3)\n",
    "    \n",
    "    used_friendly = {'purple': used[1],\n",
    "                    'pink': used[2],\n",
    "                    'green': used[3],\n",
    "                    'blue': used[4]}\n",
    "    print(used_friendly)\n",
    "\n",
    "\n",
    "i=0\n",
    "while i<5:\n",
    "    tile_the_tiles(shape, cmap)\n",
    "    i+=1"
   ]
  },
  {
   "cell_type": "code",
   "execution_count": 3,
   "id": "3e9bc6ce",
   "metadata": {},
   "outputs": [
    {
     "data": {
      "text/plain": [
       "<matplotlib.image.AxesImage at 0x1db1d690610>"
      ]
     },
     "execution_count": 3,
     "metadata": {},
     "output_type": "execute_result"
    },
    {
     "data": {
      "image/png": "[encoded data removed]",
      "text/plain": [
       "<Figure size 432x288 with 1 Axes>"
      ]
     },
     "metadata": {
      "needs_background": "light"
     },
     "output_type": "display_data"
    }
   ],
   "source": [
    "plt.imshow([[1,2],[3,4]], cmap=cmap)"
   ]
  }
 ],
 "metadata": {
  "kernelspec": {
   "display_name": "Python 3 (ipykernel)",
   "language": "python",
   "name": "python3"
  },
  "language_info": {
   "codemirror_mode": {
    "name": "ipython",
    "version": 3
   },
   "file_extension": ".py",
   "mimetype": "text/x-python",
   "name": "python",
   "nbconvert_exporter": "python",
   "pygments_lexer": "ipython3",
   "version": "3.8.12"
  }
 },
 "nbformat": 4,
 "nbformat_minor": 5
}
